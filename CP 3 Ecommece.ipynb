{
 "cells": [
  {
   "attachments": {},
   "cell_type": "markdown",
   "metadata": {},
   "source": [
    "# ***`Capstone Modul 3 Ecommerce Churn`***"
   ]
  },
  {
   "attachments": {},
   "cell_type": "markdown",
   "metadata": {},
   "source": [
    "# **Business Backgoruond and Problem**"
   ]
  },
  {
   "cell_type": "markdown",
   "metadata": {},
   "source": [
    "## *`Background`*"
   ]
  },
  {
   "attachments": {},
   "cell_type": "markdown",
   "metadata": {},
   "source": [
    "Ecommerce has significantly growth in the past few years, fueled by advancements of technology and changing consumer preferences. It offers convenience, simplicity, wide product selection, competitive pricing, and personalized experiences. As the ecommerce trend and needs rocketing, it is quite a tough challange for all players to be able generate strategies to retain customers. Ecommerce churn rates have become a critical metric for businesses, influencing profitability and growth. Factors such as customer experience, product and promotional competition play significant role in customer retention. Analyzing churn patterns helps optimize strategies and mitigate revenue loss."
   ]
  },
  {
   "cell_type": "markdown",
   "metadata": {},
   "source": [
    "## *`Problem Statement`*"
   ]
  },
  {
   "cell_type": "markdown",
   "metadata": {},
   "source": [
    "Nowadays in the era of ecommerce competition it is quite challenging to retain customer loyality due to the plenty variety of ecommerce platform. The method to keep them useing the platform sometimes will cost the company more. Considering there are also many variable to retain customer such as personalization, exelence customer experience and proactive retention campaigns, these methods will be time consuming and not really efficient if the customer identified as they are who already leaving the platform or we called it Churn."
   ]
  },
  {
   "cell_type": "markdown",
   "metadata": {},
   "source": [
    "## *`Goals`*"
   ]
  },
  {
   "cell_type": "markdown",
   "metadata": {},
   "source": [
    "Based on the problem, company willing to know the best way to predict the customer whether they will churn or not, so the strategic team able to focus on them who predicted as potential churn and how to prevent them being churn. Furthermore the company able to capture what are the factors or variables that contribute the more to leads customer's churn, this will helps strategic team to avoid strategies that might not works on contributing to customer retention."
   ]
  },
  {
   "cell_type": "markdown",
   "metadata": {},
   "source": [
    "## *`Analytical Approach`*"
   ]
  },
  {
   "cell_type": "markdown",
   "metadata": {},
   "source": [
    "This project will highlight on how ecommerce company be able to predict churn, using classificaation model that would capture customer's patern and predict wether they tend to be churn or not churn."
   ]
  },
  {
   "cell_type": "markdown",
   "metadata": {},
   "source": [
    "## *`Evaluation Metric`*"
   ]
  },
  {
   "cell_type": "markdown",
   "metadata": {},
   "source": [
    "Target of this machine learning is to flag the churn, by that **churn** is the *positive* condition and **not churn** is the *negative*\n",
    "- Class 1 : Churn\n",
    "- Class 0 : Not Churn\n",
    "<br>\n",
    "<br>\n",
    "\n",
    "False Positive : Predicted = churn, Actual = not churn<br>\n",
    "**False Negative : Predicted = not churn, Actual = churn**\n",
    "\n",
    "In this case False Negative con is leads to generate more risk to the company if we could not predict the actual chun, by that we consider to **reduce Fals Negative Rate** hence the metric evaluation needed is ***Recall***"
   ]
  },
  {
   "attachments": {},
   "cell_type": "markdown",
   "metadata": {},
   "source": [
    "# **Import Library and Load Dataset**"
   ]
  },
  {
   "cell_type": "code",
   "execution_count": 1,
   "metadata": {},
   "outputs": [],
   "source": [
    "# Library\n",
    "\n",
    "import numpy as np\n",
    "import pandas as pd\n",
    "import seaborn as sns \n",
    "import matplotlib.pyplot as plt\n",
    "import missingno\n",
    "\n",
    "# Train test split\n",
    "from sklearn.model_selection import train_test_split\n",
    "\n",
    "# Preprocess\n",
    "from sklearn.compose import ColumnTransformer\n",
    "from imblearn.pipeline import Pipeline\n",
    "\n",
    "# Encoder dan scaler\n",
    "from sklearn.preprocessing import OneHotEncoder\n",
    "from category_encoders import BinaryEncoder, OrdinalEncoder\n",
    "from sklearn.preprocessing import RobustScaler, MinMaxScaler, StandardScaler\n",
    "\n",
    "# Imbalance treatment\n",
    "from imblearn.under_sampling import RandomUnderSampler, NearMiss\n",
    "from imblearn.over_sampling import RandomOverSampler, SMOTE\n",
    "\n",
    "# Models algorithm\n",
    "from sklearn.linear_model import LogisticRegression\n",
    "from sklearn.neighbors import KNeighborsClassifier\n",
    "from sklearn.tree import DecisionTreeClassifier, plot_tree\n",
    "from sklearn.ensemble import RandomForestClassifier\n",
    "from xgboost import XGBClassifier\n",
    "from sklearn.svm import SVC\n",
    "import lightgbm as lgb\n",
    "\n",
    "# Feature Importances\n",
    "from sklearn.inspection import permutation_importance\n",
    "\n",
    "# Crossvalidation & tuning\n",
    "from sklearn.model_selection import cross_val_score, StratifiedKFold, GridSearchCV, RandomizedSearchCV\n",
    "\n",
    "# Metrics evaluation\n",
    "from sklearn.metrics import f1_score, recall_score, classification_report, confusion_matrix, precision_recall_curve\n",
    "\n",
    "# Warning\n",
    "import warnings\n",
    "warnings.filterwarnings('ignore') "
   ]
  },
  {
   "cell_type": "code",
   "execution_count": 2,
   "metadata": {},
   "outputs": [],
   "source": [
    "# Rows Setting\n",
    "\n",
    "# pd.set_option('display.max_rows', None)\n",
    "pd.reset_option('display.max_rows')"
   ]
  },
  {
   "cell_type": "code",
   "execution_count": 3,
   "metadata": {},
   "outputs": [
    {
     "data": {
      "text/html": [
       "<div>\n",
       "<style scoped>\n",
       "    .dataframe tbody tr th:only-of-type {\n",
       "        vertical-align: middle;\n",
       "    }\n",
       "\n",
       "    .dataframe tbody tr th {\n",
       "        vertical-align: top;\n",
       "    }\n",
       "\n",
       "    .dataframe thead th {\n",
       "        text-align: right;\n",
       "    }\n",
       "</style>\n",
       "<table border=\"1\" class=\"dataframe\">\n",
       "  <thead>\n",
       "    <tr style=\"text-align: right;\">\n",
       "      <th></th>\n",
       "      <th>Tenure</th>\n",
       "      <th>WarehouseToHome</th>\n",
       "      <th>NumberOfDeviceRegistered</th>\n",
       "      <th>PreferedOrderCat</th>\n",
       "      <th>SatisfactionScore</th>\n",
       "      <th>MaritalStatus</th>\n",
       "      <th>NumberOfAddress</th>\n",
       "      <th>Complain</th>\n",
       "      <th>DaySinceLastOrder</th>\n",
       "      <th>CashbackAmount</th>\n",
       "      <th>Churn</th>\n",
       "    </tr>\n",
       "  </thead>\n",
       "  <tbody>\n",
       "    <tr>\n",
       "      <th>0</th>\n",
       "      <td>15.0</td>\n",
       "      <td>29.0</td>\n",
       "      <td>4</td>\n",
       "      <td>Laptop &amp; Accessory</td>\n",
       "      <td>3</td>\n",
       "      <td>Single</td>\n",
       "      <td>2</td>\n",
       "      <td>0</td>\n",
       "      <td>7.0</td>\n",
       "      <td>143.32</td>\n",
       "      <td>0</td>\n",
       "    </tr>\n",
       "    <tr>\n",
       "      <th>1</th>\n",
       "      <td>7.0</td>\n",
       "      <td>25.0</td>\n",
       "      <td>4</td>\n",
       "      <td>Mobile</td>\n",
       "      <td>1</td>\n",
       "      <td>Married</td>\n",
       "      <td>2</td>\n",
       "      <td>0</td>\n",
       "      <td>7.0</td>\n",
       "      <td>129.29</td>\n",
       "      <td>0</td>\n",
       "    </tr>\n",
       "    <tr>\n",
       "      <th>2</th>\n",
       "      <td>27.0</td>\n",
       "      <td>13.0</td>\n",
       "      <td>3</td>\n",
       "      <td>Laptop &amp; Accessory</td>\n",
       "      <td>1</td>\n",
       "      <td>Married</td>\n",
       "      <td>5</td>\n",
       "      <td>0</td>\n",
       "      <td>7.0</td>\n",
       "      <td>168.54</td>\n",
       "      <td>0</td>\n",
       "    </tr>\n",
       "    <tr>\n",
       "      <th>3</th>\n",
       "      <td>20.0</td>\n",
       "      <td>25.0</td>\n",
       "      <td>4</td>\n",
       "      <td>Fashion</td>\n",
       "      <td>3</td>\n",
       "      <td>Divorced</td>\n",
       "      <td>7</td>\n",
       "      <td>0</td>\n",
       "      <td>NaN</td>\n",
       "      <td>230.27</td>\n",
       "      <td>0</td>\n",
       "    </tr>\n",
       "    <tr>\n",
       "      <th>4</th>\n",
       "      <td>30.0</td>\n",
       "      <td>15.0</td>\n",
       "      <td>4</td>\n",
       "      <td>Others</td>\n",
       "      <td>4</td>\n",
       "      <td>Single</td>\n",
       "      <td>8</td>\n",
       "      <td>0</td>\n",
       "      <td>8.0</td>\n",
       "      <td>322.17</td>\n",
       "      <td>0</td>\n",
       "    </tr>\n",
       "    <tr>\n",
       "      <th>...</th>\n",
       "      <td>...</td>\n",
       "      <td>...</td>\n",
       "      <td>...</td>\n",
       "      <td>...</td>\n",
       "      <td>...</td>\n",
       "      <td>...</td>\n",
       "      <td>...</td>\n",
       "      <td>...</td>\n",
       "      <td>...</td>\n",
       "      <td>...</td>\n",
       "      <td>...</td>\n",
       "    </tr>\n",
       "    <tr>\n",
       "      <th>3936</th>\n",
       "      <td>28.0</td>\n",
       "      <td>9.0</td>\n",
       "      <td>5</td>\n",
       "      <td>Fashion</td>\n",
       "      <td>3</td>\n",
       "      <td>Married</td>\n",
       "      <td>8</td>\n",
       "      <td>0</td>\n",
       "      <td>1.0</td>\n",
       "      <td>231.86</td>\n",
       "      <td>0</td>\n",
       "    </tr>\n",
       "    <tr>\n",
       "      <th>3937</th>\n",
       "      <td>8.0</td>\n",
       "      <td>7.0</td>\n",
       "      <td>2</td>\n",
       "      <td>Mobile Phone</td>\n",
       "      <td>2</td>\n",
       "      <td>Single</td>\n",
       "      <td>4</td>\n",
       "      <td>0</td>\n",
       "      <td>4.0</td>\n",
       "      <td>157.80</td>\n",
       "      <td>0</td>\n",
       "    </tr>\n",
       "    <tr>\n",
       "      <th>3938</th>\n",
       "      <td>30.0</td>\n",
       "      <td>6.0</td>\n",
       "      <td>5</td>\n",
       "      <td>Laptop &amp; Accessory</td>\n",
       "      <td>3</td>\n",
       "      <td>Married</td>\n",
       "      <td>3</td>\n",
       "      <td>1</td>\n",
       "      <td>2.0</td>\n",
       "      <td>156.60</td>\n",
       "      <td>0</td>\n",
       "    </tr>\n",
       "    <tr>\n",
       "      <th>3939</th>\n",
       "      <td>6.0</td>\n",
       "      <td>NaN</td>\n",
       "      <td>4</td>\n",
       "      <td>Mobile</td>\n",
       "      <td>3</td>\n",
       "      <td>Married</td>\n",
       "      <td>10</td>\n",
       "      <td>1</td>\n",
       "      <td>0.0</td>\n",
       "      <td>124.37</td>\n",
       "      <td>1</td>\n",
       "    </tr>\n",
       "    <tr>\n",
       "      <th>3940</th>\n",
       "      <td>2.0</td>\n",
       "      <td>7.0</td>\n",
       "      <td>3</td>\n",
       "      <td>Laptop &amp; Accessory</td>\n",
       "      <td>5</td>\n",
       "      <td>Married</td>\n",
       "      <td>1</td>\n",
       "      <td>0</td>\n",
       "      <td>2.0</td>\n",
       "      <td>153.73</td>\n",
       "      <td>0</td>\n",
       "    </tr>\n",
       "  </tbody>\n",
       "</table>\n",
       "<p>3941 rows × 11 columns</p>\n",
       "</div>"
      ],
      "text/plain": [
       "      Tenure  WarehouseToHome  NumberOfDeviceRegistered    PreferedOrderCat  \\\n",
       "0       15.0             29.0                         4  Laptop & Accessory   \n",
       "1        7.0             25.0                         4              Mobile   \n",
       "2       27.0             13.0                         3  Laptop & Accessory   \n",
       "3       20.0             25.0                         4             Fashion   \n",
       "4       30.0             15.0                         4              Others   \n",
       "...      ...              ...                       ...                 ...   \n",
       "3936    28.0              9.0                         5             Fashion   \n",
       "3937     8.0              7.0                         2        Mobile Phone   \n",
       "3938    30.0              6.0                         5  Laptop & Accessory   \n",
       "3939     6.0              NaN                         4              Mobile   \n",
       "3940     2.0              7.0                         3  Laptop & Accessory   \n",
       "\n",
       "      SatisfactionScore MaritalStatus  NumberOfAddress  Complain  \\\n",
       "0                     3        Single                2         0   \n",
       "1                     1       Married                2         0   \n",
       "2                     1       Married                5         0   \n",
       "3                     3      Divorced                7         0   \n",
       "4                     4        Single                8         0   \n",
       "...                 ...           ...              ...       ...   \n",
       "3936                  3       Married                8         0   \n",
       "3937                  2        Single                4         0   \n",
       "3938                  3       Married                3         1   \n",
       "3939                  3       Married               10         1   \n",
       "3940                  5       Married                1         0   \n",
       "\n",
       "      DaySinceLastOrder  CashbackAmount  Churn  \n",
       "0                   7.0          143.32      0  \n",
       "1                   7.0          129.29      0  \n",
       "2                   7.0          168.54      0  \n",
       "3                   NaN          230.27      0  \n",
       "4                   8.0          322.17      0  \n",
       "...                 ...             ...    ...  \n",
       "3936                1.0          231.86      0  \n",
       "3937                4.0          157.80      0  \n",
       "3938                2.0          156.60      0  \n",
       "3939                0.0          124.37      1  \n",
       "3940                2.0          153.73      0  \n",
       "\n",
       "[3941 rows x 11 columns]"
      ]
     },
     "execution_count": 3,
     "metadata": {},
     "output_type": "execute_result"
    }
   ],
   "source": [
    "# Load data\n",
    "\n",
    "df = pd.read_csv('data_ecommerce_customer_churn.csv')\n",
    "df"
   ]
  },
  {
   "attachments": {},
   "cell_type": "markdown",
   "metadata": {},
   "source": [
    "# **Data Understanding**"
   ]
  },
  {
   "cell_type": "markdown",
   "metadata": {},
   "source": [
    "The data has 3941 and 11 columns \n",
    "<br>\n",
    "Data Attribute:<br> \n",
    "\n",
    "**Tenure**: Tenure of a customer in the company.<br>\n",
    "**WarehouseToHome**: Distance between the warehouse to the customer’s home.<br>\n",
    "**NumberOfDeviceRegistered**: Total number of deceives is registered on a particular customer.<br>\n",
    "**PreferedOrderCat**: Preferred order category of a customer in the last month.<br>\n",
    "**SatisfactionScore**: Satisfactory score of a customer on service.<br>\n",
    "**MaritalStatus**: Marital status of a customer.<br>\n",
    "**NumberOfAddress**: Total number of added on a particular customer.<br>\n",
    "**Complaint**: Any complaint has been raised in the last month.<br>\n",
    "**DaySinceLastOrder**: Day since last order by customer.<br>\n",
    "**CashbackAmount**: Average cashback in last month.<br>\n",
    "**Churn**: Churn flag.<br>"
   ]
  },
  {
   "cell_type": "markdown",
   "metadata": {},
   "source": [
    "## *`Data Description`*"
   ]
  },
  {
   "cell_type": "code",
   "execution_count": 4,
   "metadata": {},
   "outputs": [
    {
     "data": {
      "text/html": [
       "<div>\n",
       "<style scoped>\n",
       "    .dataframe tbody tr th:only-of-type {\n",
       "        vertical-align: middle;\n",
       "    }\n",
       "\n",
       "    .dataframe tbody tr th {\n",
       "        vertical-align: top;\n",
       "    }\n",
       "\n",
       "    .dataframe thead th {\n",
       "        text-align: right;\n",
       "    }\n",
       "</style>\n",
       "<table border=\"1\" class=\"dataframe\">\n",
       "  <thead>\n",
       "    <tr style=\"text-align: right;\">\n",
       "      <th></th>\n",
       "      <th>Column</th>\n",
       "      <th>Data Type</th>\n",
       "      <th>Missing Value</th>\n",
       "      <th>Pct Missing Value</th>\n",
       "      <th>Num Unique</th>\n",
       "      <th>Unique Sample</th>\n",
       "      <th>Min Val</th>\n",
       "      <th>Max val</th>\n",
       "    </tr>\n",
       "  </thead>\n",
       "  <tbody>\n",
       "    <tr>\n",
       "      <th>0</th>\n",
       "      <td>Tenure</td>\n",
       "      <td>float64</td>\n",
       "      <td>194</td>\n",
       "      <td>4.92</td>\n",
       "      <td>36</td>\n",
       "      <td>[14.0, 31.0]</td>\n",
       "      <td>0.0</td>\n",
       "      <td>61.0</td>\n",
       "    </tr>\n",
       "    <tr>\n",
       "      <th>1</th>\n",
       "      <td>WarehouseToHome</td>\n",
       "      <td>float64</td>\n",
       "      <td>169</td>\n",
       "      <td>4.29</td>\n",
       "      <td>33</td>\n",
       "      <td>[34.0, 28.0]</td>\n",
       "      <td>5.0</td>\n",
       "      <td>127.0</td>\n",
       "    </tr>\n",
       "    <tr>\n",
       "      <th>2</th>\n",
       "      <td>NumberOfDeviceRegistered</td>\n",
       "      <td>int64</td>\n",
       "      <td>0</td>\n",
       "      <td>0.00</td>\n",
       "      <td>6</td>\n",
       "      <td>[3, 5]</td>\n",
       "      <td>1</td>\n",
       "      <td>6</td>\n",
       "    </tr>\n",
       "    <tr>\n",
       "      <th>3</th>\n",
       "      <td>PreferedOrderCat</td>\n",
       "      <td>object</td>\n",
       "      <td>0</td>\n",
       "      <td>0.00</td>\n",
       "      <td>6</td>\n",
       "      <td>[Laptop &amp; Accessory, Mobile]</td>\n",
       "      <td>Fashion</td>\n",
       "      <td>Others</td>\n",
       "    </tr>\n",
       "    <tr>\n",
       "      <th>4</th>\n",
       "      <td>SatisfactionScore</td>\n",
       "      <td>int64</td>\n",
       "      <td>0</td>\n",
       "      <td>0.00</td>\n",
       "      <td>5</td>\n",
       "      <td>[3, 2]</td>\n",
       "      <td>1</td>\n",
       "      <td>5</td>\n",
       "    </tr>\n",
       "    <tr>\n",
       "      <th>5</th>\n",
       "      <td>MaritalStatus</td>\n",
       "      <td>object</td>\n",
       "      <td>0</td>\n",
       "      <td>0.00</td>\n",
       "      <td>3</td>\n",
       "      <td>[Single, Divorced]</td>\n",
       "      <td>Divorced</td>\n",
       "      <td>Single</td>\n",
       "    </tr>\n",
       "    <tr>\n",
       "      <th>6</th>\n",
       "      <td>NumberOfAddress</td>\n",
       "      <td>int64</td>\n",
       "      <td>0</td>\n",
       "      <td>0.00</td>\n",
       "      <td>14</td>\n",
       "      <td>[5, 6]</td>\n",
       "      <td>1</td>\n",
       "      <td>22</td>\n",
       "    </tr>\n",
       "    <tr>\n",
       "      <th>7</th>\n",
       "      <td>Complain</td>\n",
       "      <td>int64</td>\n",
       "      <td>0</td>\n",
       "      <td>0.00</td>\n",
       "      <td>2</td>\n",
       "      <td>[0, 1]</td>\n",
       "      <td>0</td>\n",
       "      <td>1</td>\n",
       "    </tr>\n",
       "    <tr>\n",
       "      <th>8</th>\n",
       "      <td>DaySinceLastOrder</td>\n",
       "      <td>float64</td>\n",
       "      <td>213</td>\n",
       "      <td>5.40</td>\n",
       "      <td>22</td>\n",
       "      <td>[14.0, 1.0]</td>\n",
       "      <td>0.0</td>\n",
       "      <td>46.0</td>\n",
       "    </tr>\n",
       "    <tr>\n",
       "      <th>9</th>\n",
       "      <td>CashbackAmount</td>\n",
       "      <td>float64</td>\n",
       "      <td>0</td>\n",
       "      <td>0.00</td>\n",
       "      <td>2335</td>\n",
       "      <td>[177.25, 178.79]</td>\n",
       "      <td>0.0</td>\n",
       "      <td>324.99</td>\n",
       "    </tr>\n",
       "    <tr>\n",
       "      <th>10</th>\n",
       "      <td>Churn</td>\n",
       "      <td>int64</td>\n",
       "      <td>0</td>\n",
       "      <td>0.00</td>\n",
       "      <td>2</td>\n",
       "      <td>[0, 1]</td>\n",
       "      <td>0</td>\n",
       "      <td>1</td>\n",
       "    </tr>\n",
       "  </tbody>\n",
       "</table>\n",
       "</div>"
      ],
      "text/plain": [
       "                      Column Data Type  Missing Value  Pct Missing Value  \\\n",
       "0                     Tenure   float64            194               4.92   \n",
       "1            WarehouseToHome   float64            169               4.29   \n",
       "2   NumberOfDeviceRegistered     int64              0               0.00   \n",
       "3           PreferedOrderCat    object              0               0.00   \n",
       "4          SatisfactionScore     int64              0               0.00   \n",
       "5              MaritalStatus    object              0               0.00   \n",
       "6            NumberOfAddress     int64              0               0.00   \n",
       "7                   Complain     int64              0               0.00   \n",
       "8          DaySinceLastOrder   float64            213               5.40   \n",
       "9             CashbackAmount   float64              0               0.00   \n",
       "10                     Churn     int64              0               0.00   \n",
       "\n",
       "    Num Unique                 Unique Sample   Min Val Max val  \n",
       "0           36                  [14.0, 31.0]       0.0    61.0  \n",
       "1           33                  [34.0, 28.0]       5.0   127.0  \n",
       "2            6                        [3, 5]         1       6  \n",
       "3            6  [Laptop & Accessory, Mobile]   Fashion  Others  \n",
       "4            5                        [3, 2]         1       5  \n",
       "5            3            [Single, Divorced]  Divorced  Single  \n",
       "6           14                        [5, 6]         1      22  \n",
       "7            2                        [0, 1]         0       1  \n",
       "8           22                   [14.0, 1.0]       0.0    46.0  \n",
       "9         2335              [177.25, 178.79]       0.0  324.99  \n",
       "10           2                        [0, 1]         0       1  "
      ]
     },
     "execution_count": 4,
     "metadata": {},
     "output_type": "execute_result"
    }
   ],
   "source": [
    "# Columns Description\n",
    "def dataDesc():\n",
    "    listItem = []\n",
    "    for col in df.columns :\n",
    "        listItem.append(\n",
    "            [col, \n",
    "            df[col].dtype,\n",
    "            df[col].isna().sum(),\n",
    "            round(df[col].isna().sum()/len(df)*100,2),\n",
    "            df[col].nunique(),\n",
    "            list(df[col].drop_duplicates().sample(2).values),\n",
    "            df[col].min(),\n",
    "            df[col].max()]\n",
    "        )\n",
    "    descData = pd.DataFrame(data = listItem,\n",
    "                            columns = ['Column','Data Type', 'Missing Value',\n",
    "                                        'Pct Missing Value', 'Num Unique', 'Unique Sample','Min Val','Max val'])\n",
    "    return descData\n",
    "    \n",
    "dataDesc()"
   ]
  },
  {
   "cell_type": "markdown",
   "metadata": {},
   "source": [
    "We can see all the info needed from the raw data above, the initial data description let us aware of missing values in some columns around *4-5%* and there are also columuns that has big value range. It seems we need to do missing value treatment and scaling for the raw data"
   ]
  },
  {
   "cell_type": "markdown",
   "metadata": {},
   "source": [
    "# **Data Cleaning**"
   ]
  },
  {
   "cell_type": "markdown",
   "metadata": {},
   "source": [
    "In this cleaning step we need to ensure that the dataset is ready for analysis and preprocesing steps then proceed to modeling, thus we will do outliers checking and removing, missing value replacement, and removing duplicate row."
   ]
  },
  {
   "cell_type": "markdown",
   "metadata": {},
   "source": [
    "## *`Outliers`*"
   ]
  },
  {
   "cell_type": "markdown",
   "metadata": {},
   "source": [
    "To check outliers we plot all the columns using boxplot, thus we can visualize the outliers whether it contains extreme outliers or tolerable outliers. We will visualizing all the features (x) out of the dataset"
   ]
  },
  {
   "cell_type": "code",
   "execution_count": 5,
   "metadata": {},
   "outputs": [
    {
     "data": {
      "image/png": "[encoded data removed]",
      "text/plain": [
       "<Figure size 2300x700 with 8 Axes>"
      ]
     },
     "metadata": {},
     "output_type": "display_data"
    }
   ],
   "source": [
    "# Boxplot\n",
    "\n",
    "numericCols = df.drop(columns='Churn').select_dtypes(include=[float, int]).columns\n",
    "\n",
    "fig, ax = plt.subplots(ncols=8, nrows=1, figsize=(23,7))\n",
    "index = 0\n",
    "ax = ax.flatten()\n",
    "\n",
    "for col in numericCols:\n",
    "    sns.boxplot(y=col, data=df, ax=ax[index], palette='flare')\n",
    "    index += 1\n",
    "\n",
    "plt.tight_layout(pad=0.5, w_pad=0.7, h_pad=5.0)\n",
    "plt.show()"
   ]
  },
  {
   "cell_type": "markdown",
   "metadata": {},
   "source": [
    "From the boxplot above we can se some columns has extreme outliers which has value far beyond the upper bound, those columns are: *WarehouseToHome*, *Tenure* and *DaySinceLastOrder*. In this case we try to capture extreme outliers value using IQR method with treshold (3 * IQR)"
   ]
  },
  {
   "cell_type": "code",
   "execution_count": 6,
   "metadata": {},
   "outputs": [
    {
     "name": "stdout",
     "output_type": "stream",
     "text": [
      "Outlier: 2717    127.0\n",
      "Name: WarehouseToHome, dtype: float64\n"
     ]
    }
   ],
   "source": [
    "# WarehouseToHome Outliers\n",
    "\n",
    "Q1 = df['WarehouseToHome'].quantile(0.25)\n",
    "Q3 = df['WarehouseToHome'].quantile(0.75)\n",
    "IQR = Q3 - Q1\n",
    "\n",
    "# Threshold\n",
    "threshold = 3 * IQR\n",
    "\n",
    "# Indentify Outliers\n",
    "outliersWH = (df['WarehouseToHome'] < Q1 - threshold) | (df['WarehouseToHome'] > Q3 + threshold)\n",
    "\n",
    "# Extreme Outliers Value\n",
    "outlierValuesWH = df.loc[outliersWH,'WarehouseToHome']\n",
    "print(f'Outlier: {outlierValuesWH}')"
   ]
  },
  {
   "cell_type": "markdown",
   "metadata": {},
   "source": [
    "for WarehouseToHome column we captured only one value that is defined as extreme outlier, *index 2717*"
   ]
  },
  {
   "cell_type": "code",
   "execution_count": 7,
   "metadata": {},
   "outputs": [
    {
     "name": "stdout",
     "output_type": "stream",
     "text": [
      "Outlier: 1581    19\n",
      "2109    22\n",
      "3494    21\n",
      "Name: NumberOfAddress, dtype: int64\n"
     ]
    }
   ],
   "source": [
    "# NumberOfAddress Outliers\n",
    "\n",
    "Q1 = df['NumberOfAddress'].quantile(0.25)\n",
    "Q3 = df['NumberOfAddress'].quantile(0.75)\n",
    "IQR = Q3 - Q1\n",
    "\n",
    "# Threshold\n",
    "threshold = 3 * IQR\n",
    "\n",
    "# Indentify Outliers\n",
    "outliersNOA = (df['NumberOfAddress'] < Q1 - threshold) | (df['NumberOfAddress'] > Q3 + threshold)\n",
    "\n",
    "# Extreme Outliers Value\n",
    "outlierValuesNOA = df.loc[outliersNOA,'NumberOfAddress']\n",
    "print(f'Outlier: {outlierValuesNOA}')"
   ]
  },
  {
   "cell_type": "markdown",
   "metadata": {},
   "source": [
    "for NumberOfAddress column we captured two value that are defined as extreme outliers, *index 1581, 2109 and 3494*"
   ]
  },
  {
   "cell_type": "code",
   "execution_count": 8,
   "metadata": {},
   "outputs": [
    {
     "name": "stdout",
     "output_type": "stream",
     "text": [
      "Outlier: 51      61.0\n",
      "1209    60.0\n",
      "Name: Tenure, dtype: float64\n"
     ]
    }
   ],
   "source": [
    "# Tenure Outliers\n",
    "\n",
    "Q1 = df['Tenure'].quantile(0.25)\n",
    "Q3 = df['Tenure'].quantile(0.75)\n",
    "IQR = Q3 - Q1\n",
    "\n",
    "# Threshold\n",
    "threshold = 3 * IQR\n",
    "\n",
    "# Indentify Outliers\n",
    "outliersTN = (df['Tenure'] < Q1 - threshold) | (df['Tenure'] > Q3 + threshold)\n",
    "\n",
    "# Extreme Outliers Value\n",
    "outlierValuesTN = df.loc[outliersTN,'Tenure']\n",
    "print(f'Outlier: {outlierValuesTN}')"
   ]
  },
  {
   "cell_type": "markdown",
   "metadata": {},
   "source": [
    "for Tenure column we captured two value that are defined as extreme outliers, *index 51 & 1209*"
   ]
  },
  {
   "cell_type": "code",
   "execution_count": 9,
   "metadata": {},
   "outputs": [
    {
     "name": "stdout",
     "output_type": "stream",
     "text": [
      "Outlier: 181     30.0\n",
      "3591    46.0\n",
      "3830    31.0\n",
      "Name: DaySinceLastOrder, dtype: float64\n"
     ]
    }
   ],
   "source": [
    "# DaySinceLastOrder Outliers\n",
    "\n",
    "Q1 = df['DaySinceLastOrder'].quantile(0.25)\n",
    "Q3 = df['DaySinceLastOrder'].quantile(0.75)\n",
    "IQR = Q3 - Q1\n",
    "\n",
    "# Threshold\n",
    "threshold = 3 * IQR\n",
    "\n",
    "# Indentify Outliers\n",
    "outliersDSL = (df['DaySinceLastOrder'] < Q1 - threshold) | (df['DaySinceLastOrder'] > Q3 + threshold)\n",
    "\n",
    "# Extreme Outliers Value\n",
    "outlierValuesDSL = df.loc[outliersDSL,'DaySinceLastOrder']\n",
    "print(f'Outlier: {outlierValuesDSL}')"
   ]
  },
  {
   "cell_type": "markdown",
   "metadata": {},
   "source": [
    "for DaySinceLastOrder column we captured three value that are defined as extreme outliers, *index 181, 3591 & 3830*"
   ]
  },
  {
   "cell_type": "code",
   "execution_count": 10,
   "metadata": {},
   "outputs": [
    {
     "data": {
      "text/plain": [
       "Int64Index([2717], dtype='int64')"
      ]
     },
     "metadata": {},
     "output_type": "display_data"
    },
    {
     "data": {
      "text/plain": [
       "Int64Index([181, 3591, 3830], dtype='int64')"
      ]
     },
     "metadata": {},
     "output_type": "display_data"
    },
    {
     "data": {
      "text/plain": [
       "Int64Index([51, 1209], dtype='int64')"
      ]
     },
     "metadata": {},
     "output_type": "display_data"
    },
    {
     "data": {
      "text/plain": [
       "Int64Index([1581, 2109, 3494], dtype='int64')"
      ]
     },
     "metadata": {},
     "output_type": "display_data"
    }
   ],
   "source": [
    "# Extreme outliers index\n",
    "\n",
    "display(outlierValuesWH.index, outlierValuesDSL.index, outlierValuesTN.index, outlierValuesNOA.index)"
   ]
  },
  {
   "cell_type": "markdown",
   "metadata": {},
   "source": [
    "In this step, we will drop all the index that are captured above"
   ]
  },
  {
   "cell_type": "code",
   "execution_count": 11,
   "metadata": {},
   "outputs": [],
   "source": [
    "df = df.drop(outlierValuesWH.index, axis=0)\n",
    "df = df.drop(outlierValuesDSL.index, axis=0)\n",
    "df = df.drop(outlierValuesTN.index, axis=0)\n",
    "df = df.drop(outlierValuesNOA.index, axis=0)"
   ]
  },
  {
   "cell_type": "code",
   "execution_count": 12,
   "metadata": {},
   "outputs": [
    {
     "data": {
      "text/html": [
       "<div>\n",
       "<style scoped>\n",
       "    .dataframe tbody tr th:only-of-type {\n",
       "        vertical-align: middle;\n",
       "    }\n",
       "\n",
       "    .dataframe tbody tr th {\n",
       "        vertical-align: top;\n",
       "    }\n",
       "\n",
       "    .dataframe thead th {\n",
       "        text-align: right;\n",
       "    }\n",
       "</style>\n",
       "<table border=\"1\" class=\"dataframe\">\n",
       "  <thead>\n",
       "    <tr style=\"text-align: right;\">\n",
       "      <th></th>\n",
       "      <th>Tenure</th>\n",
       "      <th>WarehouseToHome</th>\n",
       "      <th>NumberOfDeviceRegistered</th>\n",
       "      <th>PreferedOrderCat</th>\n",
       "      <th>SatisfactionScore</th>\n",
       "      <th>MaritalStatus</th>\n",
       "      <th>NumberOfAddress</th>\n",
       "      <th>Complain</th>\n",
       "      <th>DaySinceLastOrder</th>\n",
       "      <th>CashbackAmount</th>\n",
       "      <th>Churn</th>\n",
       "    </tr>\n",
       "  </thead>\n",
       "  <tbody>\n",
       "    <tr>\n",
       "      <th>0</th>\n",
       "      <td>15.0</td>\n",
       "      <td>29.0</td>\n",
       "      <td>4</td>\n",
       "      <td>Laptop &amp; Accessory</td>\n",
       "      <td>3</td>\n",
       "      <td>Single</td>\n",
       "      <td>2</td>\n",
       "      <td>0</td>\n",
       "      <td>7.0</td>\n",
       "      <td>143.32</td>\n",
       "      <td>0</td>\n",
       "    </tr>\n",
       "    <tr>\n",
       "      <th>1</th>\n",
       "      <td>7.0</td>\n",
       "      <td>25.0</td>\n",
       "      <td>4</td>\n",
       "      <td>Mobile</td>\n",
       "      <td>1</td>\n",
       "      <td>Married</td>\n",
       "      <td>2</td>\n",
       "      <td>0</td>\n",
       "      <td>7.0</td>\n",
       "      <td>129.29</td>\n",
       "      <td>0</td>\n",
       "    </tr>\n",
       "    <tr>\n",
       "      <th>2</th>\n",
       "      <td>27.0</td>\n",
       "      <td>13.0</td>\n",
       "      <td>3</td>\n",
       "      <td>Laptop &amp; Accessory</td>\n",
       "      <td>1</td>\n",
       "      <td>Married</td>\n",
       "      <td>5</td>\n",
       "      <td>0</td>\n",
       "      <td>7.0</td>\n",
       "      <td>168.54</td>\n",
       "      <td>0</td>\n",
       "    </tr>\n",
       "    <tr>\n",
       "      <th>3</th>\n",
       "      <td>20.0</td>\n",
       "      <td>25.0</td>\n",
       "      <td>4</td>\n",
       "      <td>Fashion</td>\n",
       "      <td>3</td>\n",
       "      <td>Divorced</td>\n",
       "      <td>7</td>\n",
       "      <td>0</td>\n",
       "      <td>NaN</td>\n",
       "      <td>230.27</td>\n",
       "      <td>0</td>\n",
       "    </tr>\n",
       "    <tr>\n",
       "      <th>4</th>\n",
       "      <td>30.0</td>\n",
       "      <td>15.0</td>\n",
       "      <td>4</td>\n",
       "      <td>Others</td>\n",
       "      <td>4</td>\n",
       "      <td>Single</td>\n",
       "      <td>8</td>\n",
       "      <td>0</td>\n",
       "      <td>8.0</td>\n",
       "      <td>322.17</td>\n",
       "      <td>0</td>\n",
       "    </tr>\n",
       "    <tr>\n",
       "      <th>...</th>\n",
       "      <td>...</td>\n",
       "      <td>...</td>\n",
       "      <td>...</td>\n",
       "      <td>...</td>\n",
       "      <td>...</td>\n",
       "      <td>...</td>\n",
       "      <td>...</td>\n",
       "      <td>...</td>\n",
       "      <td>...</td>\n",
       "      <td>...</td>\n",
       "      <td>...</td>\n",
       "    </tr>\n",
       "    <tr>\n",
       "      <th>3936</th>\n",
       "      <td>28.0</td>\n",
       "      <td>9.0</td>\n",
       "      <td>5</td>\n",
       "      <td>Fashion</td>\n",
       "      <td>3</td>\n",
       "      <td>Married</td>\n",
       "      <td>8</td>\n",
       "      <td>0</td>\n",
       "      <td>1.0</td>\n",
       "      <td>231.86</td>\n",
       "      <td>0</td>\n",
       "    </tr>\n",
       "    <tr>\n",
       "      <th>3937</th>\n",
       "      <td>8.0</td>\n",
       "      <td>7.0</td>\n",
       "      <td>2</td>\n",
       "      <td>Mobile Phone</td>\n",
       "      <td>2</td>\n",
       "      <td>Single</td>\n",
       "      <td>4</td>\n",
       "      <td>0</td>\n",
       "      <td>4.0</td>\n",
       "      <td>157.80</td>\n",
       "      <td>0</td>\n",
       "    </tr>\n",
       "    <tr>\n",
       "      <th>3938</th>\n",
       "      <td>30.0</td>\n",
       "      <td>6.0</td>\n",
       "      <td>5</td>\n",
       "      <td>Laptop &amp; Accessory</td>\n",
       "      <td>3</td>\n",
       "      <td>Married</td>\n",
       "      <td>3</td>\n",
       "      <td>1</td>\n",
       "      <td>2.0</td>\n",
       "      <td>156.60</td>\n",
       "      <td>0</td>\n",
       "    </tr>\n",
       "    <tr>\n",
       "      <th>3939</th>\n",
       "      <td>6.0</td>\n",
       "      <td>NaN</td>\n",
       "      <td>4</td>\n",
       "      <td>Mobile</td>\n",
       "      <td>3</td>\n",
       "      <td>Married</td>\n",
       "      <td>10</td>\n",
       "      <td>1</td>\n",
       "      <td>0.0</td>\n",
       "      <td>124.37</td>\n",
       "      <td>1</td>\n",
       "    </tr>\n",
       "    <tr>\n",
       "      <th>3940</th>\n",
       "      <td>2.0</td>\n",
       "      <td>7.0</td>\n",
       "      <td>3</td>\n",
       "      <td>Laptop &amp; Accessory</td>\n",
       "      <td>5</td>\n",
       "      <td>Married</td>\n",
       "      <td>1</td>\n",
       "      <td>0</td>\n",
       "      <td>2.0</td>\n",
       "      <td>153.73</td>\n",
       "      <td>0</td>\n",
       "    </tr>\n",
       "  </tbody>\n",
       "</table>\n",
       "<p>3932 rows × 11 columns</p>\n",
       "</div>"
      ],
      "text/plain": [
       "      Tenure  WarehouseToHome  NumberOfDeviceRegistered    PreferedOrderCat  \\\n",
       "0       15.0             29.0                         4  Laptop & Accessory   \n",
       "1        7.0             25.0                         4              Mobile   \n",
       "2       27.0             13.0                         3  Laptop & Accessory   \n",
       "3       20.0             25.0                         4             Fashion   \n",
       "4       30.0             15.0                         4              Others   \n",
       "...      ...              ...                       ...                 ...   \n",
       "3936    28.0              9.0                         5             Fashion   \n",
       "3937     8.0              7.0                         2        Mobile Phone   \n",
       "3938    30.0              6.0                         5  Laptop & Accessory   \n",
       "3939     6.0              NaN                         4              Mobile   \n",
       "3940     2.0              7.0                         3  Laptop & Accessory   \n",
       "\n",
       "      SatisfactionScore MaritalStatus  NumberOfAddress  Complain  \\\n",
       "0                     3        Single                2         0   \n",
       "1                     1       Married                2         0   \n",
       "2                     1       Married                5         0   \n",
       "3                     3      Divorced                7         0   \n",
       "4                     4        Single                8         0   \n",
       "...                 ...           ...              ...       ...   \n",
       "3936                  3       Married                8         0   \n",
       "3937                  2        Single                4         0   \n",
       "3938                  3       Married                3         1   \n",
       "3939                  3       Married               10         1   \n",
       "3940                  5       Married                1         0   \n",
       "\n",
       "      DaySinceLastOrder  CashbackAmount  Churn  \n",
       "0                   7.0          143.32      0  \n",
       "1                   7.0          129.29      0  \n",
       "2                   7.0          168.54      0  \n",
       "3                   NaN          230.27      0  \n",
       "4                   8.0          322.17      0  \n",
       "...                 ...             ...    ...  \n",
       "3936                1.0          231.86      0  \n",
       "3937                4.0          157.80      0  \n",
       "3938                2.0          156.60      0  \n",
       "3939                0.0          124.37      1  \n",
       "3940                2.0          153.73      0  \n",
       "\n",
       "[3932 rows x 11 columns]"
      ]
     },
     "execution_count": 12,
     "metadata": {},
     "output_type": "execute_result"
    }
   ],
   "source": [
    "df"
   ]
  },
  {
   "cell_type": "markdown",
   "metadata": {},
   "source": [
    "We can see that the updated dataframe now only containing 3932 rows, the total is 6 rows dropped"
   ]
  },
  {
   "cell_type": "markdown",
   "metadata": {},
   "source": [
    "## *`Missing Value`*"
   ]
  },
  {
   "cell_type": "markdown",
   "metadata": {},
   "source": [
    "From the data description above, there are three columns has missing values they are Tenure, WarehouseToHome and DaySinceLastOrder. In order to fill ne NaN value we need to check the distribution to define what is  the best center weighted metering to use. We will execute this step after dropping outliers to ensure the outliers value not distorting the mean or median value in every column"
   ]
  },
  {
   "cell_type": "code",
   "execution_count": 13,
   "metadata": {},
   "outputs": [
    {
     "data": {
      "text/plain": [
       "Tenure                      193\n",
       "WarehouseToHome             169\n",
       "NumberOfDeviceRegistered      0\n",
       "PreferedOrderCat              0\n",
       "SatisfactionScore             0\n",
       "MaritalStatus                 0\n",
       "NumberOfAddress               0\n",
       "Complain                      0\n",
       "DaySinceLastOrder           213\n",
       "CashbackAmount                0\n",
       "Churn                         0\n",
       "dtype: int64"
      ]
     },
     "execution_count": 13,
     "metadata": {},
     "output_type": "execute_result"
    }
   ],
   "source": [
    "df.isna().sum()"
   ]
  },
  {
   "cell_type": "code",
   "execution_count": 14,
   "metadata": {},
   "outputs": [
    {
     "data": {
      "text/plain": [
       "Text(0.5, 1.0, 'Tenure Displot')"
      ]
     },
     "execution_count": 14,
     "metadata": {},
     "output_type": "execute_result"
    },
    {
     "data": {
      "image/png": "[encoded data removed]",
      "text/plain": [
       "<Figure size 1000x500 with 1 Axes>"
      ]
     },
     "metadata": {},
     "output_type": "display_data"
    }
   ],
   "source": [
    "# Tenure\n",
    "\n",
    "sns.displot(df['Tenure'], kde=True, aspect=2/1)\n",
    "plt.title('Tenure Displot')"
   ]
  },
  {
   "cell_type": "markdown",
   "metadata": {},
   "source": [
    "Tenure displot showing the data distribution is not normaly distributed, hence we use median to fill missing value"
   ]
  },
  {
   "cell_type": "code",
   "execution_count": 15,
   "metadata": {},
   "outputs": [
    {
     "data": {
      "text/plain": [
       "Text(0.5, 1.0, 'WarehouseToHome Displot')"
      ]
     },
     "execution_count": 15,
     "metadata": {},
     "output_type": "execute_result"
    },
    {
     "data": {
      "image/png": "[encoded data removed]",
      "text/plain": [
       "<Figure size 1000x500 with 1 Axes>"
      ]
     },
     "metadata": {},
     "output_type": "display_data"
    }
   ],
   "source": [
    "# WHtoHome\n",
    "\n",
    "sns.displot(df['WarehouseToHome'], kde=True, aspect=2/1)\n",
    "plt.title('WarehouseToHome Displot')"
   ]
  },
  {
   "cell_type": "markdown",
   "metadata": {},
   "source": [
    "WarehouseToHome displot showing the data distribution is not normaly distributed, hence we use median to fill missing value"
   ]
  },
  {
   "cell_type": "code",
   "execution_count": 16,
   "metadata": {},
   "outputs": [
    {
     "data": {
      "text/plain": [
       "Text(0.5, 1.0, 'DaySinceLastOrder Displot')"
      ]
     },
     "execution_count": 16,
     "metadata": {},
     "output_type": "execute_result"
    },
    {
     "data": {
      "image/png": "[encoded data removed]",
      "text/plain": [
       "<Figure size 1000x500 with 1 Axes>"
      ]
     },
     "metadata": {},
     "output_type": "display_data"
    }
   ],
   "source": [
    "# DaySinceLastOrder\n",
    "\n",
    "sns.displot(df['DaySinceLastOrder'], kde=True, aspect=2/1)\n",
    "plt.title('DaySinceLastOrder Displot')"
   ]
  },
  {
   "cell_type": "markdown",
   "metadata": {},
   "source": [
    "DaySinceLastOrder displot showing the data distribution is not normaly distributed, hence we use median to fill missing value"
   ]
  },
  {
   "cell_type": "markdown",
   "metadata": {},
   "source": [
    "The distributuion plots shows us that all of the columns that has missing value are not normaly distributed, then we captured the median of every single column needed. We will fill the median with the median captured"
   ]
  },
  {
   "cell_type": "code",
   "execution_count": 17,
   "metadata": {},
   "outputs": [],
   "source": [
    "# Fill Missing Value\n",
    "\n",
    "medianTenure = df['Tenure'].median()\n",
    "medianWH = df['WarehouseToHome'].median()\n",
    "medianDSL = df['DaySinceLastOrder'].median()\n",
    "\n",
    "for i in [medianTenure, medianWH, medianDSL]:\n",
    "    for col in ['Tenure','WarehouseToHome','DaySinceLastOrder']:\n",
    "        df[col] = df[col].fillna(i)"
   ]
  },
  {
   "cell_type": "code",
   "execution_count": 18,
   "metadata": {},
   "outputs": [
    {
     "data": {
      "text/plain": [
       "Tenure                      0\n",
       "WarehouseToHome             0\n",
       "NumberOfDeviceRegistered    0\n",
       "PreferedOrderCat            0\n",
       "SatisfactionScore           0\n",
       "MaritalStatus               0\n",
       "NumberOfAddress             0\n",
       "Complain                    0\n",
       "DaySinceLastOrder           0\n",
       "CashbackAmount              0\n",
       "Churn                       0\n",
       "dtype: int64"
      ]
     },
     "execution_count": 18,
     "metadata": {},
     "output_type": "execute_result"
    }
   ],
   "source": [
    "# NaN Check\n",
    "\n",
    "df.isna().sum()"
   ]
  },
  {
   "cell_type": "markdown",
   "metadata": {},
   "source": [
    "The info above is a final check after filling the missing value, we can see that all columns now has 0 missing value, with this condition we may proceed to the last step of data celaning"
   ]
  },
  {
   "cell_type": "markdown",
   "metadata": {},
   "source": [
    "## *`Duplicated Rows`*"
   ]
  },
  {
   "cell_type": "markdown",
   "metadata": {},
   "source": [
    "Duplicated row is one of the obstacle that we need to avoid in machine learning. By considering this step we can improve data quality, duplicated rows can introduce noise and redundancy into the dataset, which can affect the accuracy and reliability of the machine learning model. It will also hepls us to reduce overfitting, duplicated rows can lead to overfitting, where the model becomes too specialized to the training data and fails to generalize well to unseen data."
   ]
  },
  {
   "cell_type": "code",
   "execution_count": 19,
   "metadata": {},
   "outputs": [
    {
     "data": {
      "text/plain": [
       "671"
      ]
     },
     "execution_count": 19,
     "metadata": {},
     "output_type": "execute_result"
    }
   ],
   "source": [
    "# Total Duplicated Rows\n",
    "\n",
    "df.duplicated().sum()"
   ]
  },
  {
   "cell_type": "code",
   "execution_count": 20,
   "metadata": {},
   "outputs": [
    {
     "data": {
      "text/html": [
       "<div>\n",
       "<style scoped>\n",
       "    .dataframe tbody tr th:only-of-type {\n",
       "        vertical-align: middle;\n",
       "    }\n",
       "\n",
       "    .dataframe tbody tr th {\n",
       "        vertical-align: top;\n",
       "    }\n",
       "\n",
       "    .dataframe thead th {\n",
       "        text-align: right;\n",
       "    }\n",
       "</style>\n",
       "<table border=\"1\" class=\"dataframe\">\n",
       "  <thead>\n",
       "    <tr style=\"text-align: right;\">\n",
       "      <th></th>\n",
       "      <th>Tenure</th>\n",
       "      <th>WarehouseToHome</th>\n",
       "      <th>NumberOfDeviceRegistered</th>\n",
       "      <th>PreferedOrderCat</th>\n",
       "      <th>SatisfactionScore</th>\n",
       "      <th>MaritalStatus</th>\n",
       "      <th>NumberOfAddress</th>\n",
       "      <th>Complain</th>\n",
       "      <th>DaySinceLastOrder</th>\n",
       "      <th>CashbackAmount</th>\n",
       "      <th>Churn</th>\n",
       "    </tr>\n",
       "  </thead>\n",
       "  <tbody>\n",
       "    <tr>\n",
       "      <th>3490</th>\n",
       "      <td>0.0</td>\n",
       "      <td>15.0</td>\n",
       "      <td>3</td>\n",
       "      <td>Mobile Phone</td>\n",
       "      <td>1</td>\n",
       "      <td>Single</td>\n",
       "      <td>2</td>\n",
       "      <td>0</td>\n",
       "      <td>0.0</td>\n",
       "      <td>110.81</td>\n",
       "      <td>1</td>\n",
       "    </tr>\n",
       "    <tr>\n",
       "      <th>2010</th>\n",
       "      <td>0.0</td>\n",
       "      <td>15.0</td>\n",
       "      <td>3</td>\n",
       "      <td>Mobile Phone</td>\n",
       "      <td>1</td>\n",
       "      <td>Single</td>\n",
       "      <td>2</td>\n",
       "      <td>0</td>\n",
       "      <td>0.0</td>\n",
       "      <td>110.81</td>\n",
       "      <td>1</td>\n",
       "    </tr>\n",
       "    <tr>\n",
       "      <th>95</th>\n",
       "      <td>0.0</td>\n",
       "      <td>30.0</td>\n",
       "      <td>1</td>\n",
       "      <td>Mobile Phone</td>\n",
       "      <td>5</td>\n",
       "      <td>Single</td>\n",
       "      <td>2</td>\n",
       "      <td>0</td>\n",
       "      <td>0.0</td>\n",
       "      <td>110.91</td>\n",
       "      <td>1</td>\n",
       "    </tr>\n",
       "    <tr>\n",
       "      <th>3166</th>\n",
       "      <td>0.0</td>\n",
       "      <td>30.0</td>\n",
       "      <td>1</td>\n",
       "      <td>Mobile Phone</td>\n",
       "      <td>5</td>\n",
       "      <td>Single</td>\n",
       "      <td>2</td>\n",
       "      <td>0</td>\n",
       "      <td>0.0</td>\n",
       "      <td>110.91</td>\n",
       "      <td>1</td>\n",
       "    </tr>\n",
       "    <tr>\n",
       "      <th>178</th>\n",
       "      <td>9.0</td>\n",
       "      <td>13.0</td>\n",
       "      <td>3</td>\n",
       "      <td>Mobile Phone</td>\n",
       "      <td>3</td>\n",
       "      <td>Married</td>\n",
       "      <td>2</td>\n",
       "      <td>0</td>\n",
       "      <td>0.0</td>\n",
       "      <td>112.74</td>\n",
       "      <td>0</td>\n",
       "    </tr>\n",
       "    <tr>\n",
       "      <th>...</th>\n",
       "      <td>...</td>\n",
       "      <td>...</td>\n",
       "      <td>...</td>\n",
       "      <td>...</td>\n",
       "      <td>...</td>\n",
       "      <td>...</td>\n",
       "      <td>...</td>\n",
       "      <td>...</td>\n",
       "      <td>...</td>\n",
       "      <td>...</td>\n",
       "      <td>...</td>\n",
       "    </tr>\n",
       "    <tr>\n",
       "      <th>3798</th>\n",
       "      <td>30.0</td>\n",
       "      <td>15.0</td>\n",
       "      <td>4</td>\n",
       "      <td>Others</td>\n",
       "      <td>4</td>\n",
       "      <td>Single</td>\n",
       "      <td>8</td>\n",
       "      <td>0</td>\n",
       "      <td>8.0</td>\n",
       "      <td>322.17</td>\n",
       "      <td>0</td>\n",
       "    </tr>\n",
       "    <tr>\n",
       "      <th>1669</th>\n",
       "      <td>14.0</td>\n",
       "      <td>14.0</td>\n",
       "      <td>4</td>\n",
       "      <td>Others</td>\n",
       "      <td>4</td>\n",
       "      <td>Single</td>\n",
       "      <td>3</td>\n",
       "      <td>0</td>\n",
       "      <td>9.0</td>\n",
       "      <td>323.33</td>\n",
       "      <td>0</td>\n",
       "    </tr>\n",
       "    <tr>\n",
       "      <th>296</th>\n",
       "      <td>14.0</td>\n",
       "      <td>14.0</td>\n",
       "      <td>4</td>\n",
       "      <td>Others</td>\n",
       "      <td>4</td>\n",
       "      <td>Single</td>\n",
       "      <td>3</td>\n",
       "      <td>0</td>\n",
       "      <td>9.0</td>\n",
       "      <td>323.33</td>\n",
       "      <td>0</td>\n",
       "    </tr>\n",
       "    <tr>\n",
       "      <th>2806</th>\n",
       "      <td>15.0</td>\n",
       "      <td>14.0</td>\n",
       "      <td>6</td>\n",
       "      <td>Others</td>\n",
       "      <td>3</td>\n",
       "      <td>Married</td>\n",
       "      <td>3</td>\n",
       "      <td>0</td>\n",
       "      <td>11.0</td>\n",
       "      <td>324.73</td>\n",
       "      <td>0</td>\n",
       "    </tr>\n",
       "    <tr>\n",
       "      <th>295</th>\n",
       "      <td>15.0</td>\n",
       "      <td>14.0</td>\n",
       "      <td>6</td>\n",
       "      <td>Others</td>\n",
       "      <td>3</td>\n",
       "      <td>Married</td>\n",
       "      <td>3</td>\n",
       "      <td>0</td>\n",
       "      <td>11.0</td>\n",
       "      <td>324.73</td>\n",
       "      <td>0</td>\n",
       "    </tr>\n",
       "  </tbody>\n",
       "</table>\n",
       "<p>1342 rows × 11 columns</p>\n",
       "</div>"
      ],
      "text/plain": [
       "      Tenure  WarehouseToHome  NumberOfDeviceRegistered PreferedOrderCat  \\\n",
       "3490     0.0             15.0                         3     Mobile Phone   \n",
       "2010     0.0             15.0                         3     Mobile Phone   \n",
       "95       0.0             30.0                         1     Mobile Phone   \n",
       "3166     0.0             30.0                         1     Mobile Phone   \n",
       "178      9.0             13.0                         3     Mobile Phone   \n",
       "...      ...              ...                       ...              ...   \n",
       "3798    30.0             15.0                         4           Others   \n",
       "1669    14.0             14.0                         4           Others   \n",
       "296     14.0             14.0                         4           Others   \n",
       "2806    15.0             14.0                         6           Others   \n",
       "295     15.0             14.0                         6           Others   \n",
       "\n",
       "      SatisfactionScore MaritalStatus  NumberOfAddress  Complain  \\\n",
       "3490                  1        Single                2         0   \n",
       "2010                  1        Single                2         0   \n",
       "95                    5        Single                2         0   \n",
       "3166                  5        Single                2         0   \n",
       "178                   3       Married                2         0   \n",
       "...                 ...           ...              ...       ...   \n",
       "3798                  4        Single                8         0   \n",
       "1669                  4        Single                3         0   \n",
       "296                   4        Single                3         0   \n",
       "2806                  3       Married                3         0   \n",
       "295                   3       Married                3         0   \n",
       "\n",
       "      DaySinceLastOrder  CashbackAmount  Churn  \n",
       "3490                0.0          110.81      1  \n",
       "2010                0.0          110.81      1  \n",
       "95                  0.0          110.91      1  \n",
       "3166                0.0          110.91      1  \n",
       "178                 0.0          112.74      0  \n",
       "...                 ...             ...    ...  \n",
       "3798                8.0          322.17      0  \n",
       "1669                9.0          323.33      0  \n",
       "296                 9.0          323.33      0  \n",
       "2806               11.0          324.73      0  \n",
       "295                11.0          324.73      0  \n",
       "\n",
       "[1342 rows x 11 columns]"
      ]
     },
     "execution_count": 20,
     "metadata": {},
     "output_type": "execute_result"
    }
   ],
   "source": [
    "# Check duplicated rows\n",
    "duplicates = df.duplicated(keep=False)\n",
    "\n",
    "# Filter the DataFrame to show duplicated rows\n",
    "duplicatedRows = df[duplicates]\n",
    "duplicatedRows.sort_values('CashbackAmount')"
   ]
  },
  {
   "cell_type": "code",
   "execution_count": 21,
   "metadata": {},
   "outputs": [
    {
     "data": {
      "text/html": [
       "<div>\n",
       "<style scoped>\n",
       "    .dataframe tbody tr th:only-of-type {\n",
       "        vertical-align: middle;\n",
       "    }\n",
       "\n",
       "    .dataframe tbody tr th {\n",
       "        vertical-align: top;\n",
       "    }\n",
       "\n",
       "    .dataframe thead th {\n",
       "        text-align: right;\n",
       "    }\n",
       "</style>\n",
       "<table border=\"1\" class=\"dataframe\">\n",
       "  <thead>\n",
       "    <tr style=\"text-align: right;\">\n",
       "      <th></th>\n",
       "      <th>Tenure</th>\n",
       "      <th>WarehouseToHome</th>\n",
       "      <th>NumberOfDeviceRegistered</th>\n",
       "      <th>PreferedOrderCat</th>\n",
       "      <th>SatisfactionScore</th>\n",
       "      <th>MaritalStatus</th>\n",
       "      <th>NumberOfAddress</th>\n",
       "      <th>Complain</th>\n",
       "      <th>DaySinceLastOrder</th>\n",
       "      <th>CashbackAmount</th>\n",
       "      <th>Churn</th>\n",
       "    </tr>\n",
       "  </thead>\n",
       "  <tbody>\n",
       "    <tr>\n",
       "      <th>0</th>\n",
       "      <td>15.0</td>\n",
       "      <td>29.0</td>\n",
       "      <td>4</td>\n",
       "      <td>Laptop &amp; Accessory</td>\n",
       "      <td>3</td>\n",
       "      <td>Single</td>\n",
       "      <td>2</td>\n",
       "      <td>0</td>\n",
       "      <td>7.0</td>\n",
       "      <td>143.32</td>\n",
       "      <td>0</td>\n",
       "    </tr>\n",
       "    <tr>\n",
       "      <th>1</th>\n",
       "      <td>7.0</td>\n",
       "      <td>25.0</td>\n",
       "      <td>4</td>\n",
       "      <td>Mobile</td>\n",
       "      <td>1</td>\n",
       "      <td>Married</td>\n",
       "      <td>2</td>\n",
       "      <td>0</td>\n",
       "      <td>7.0</td>\n",
       "      <td>129.29</td>\n",
       "      <td>0</td>\n",
       "    </tr>\n",
       "    <tr>\n",
       "      <th>2</th>\n",
       "      <td>27.0</td>\n",
       "      <td>13.0</td>\n",
       "      <td>3</td>\n",
       "      <td>Laptop &amp; Accessory</td>\n",
       "      <td>1</td>\n",
       "      <td>Married</td>\n",
       "      <td>5</td>\n",
       "      <td>0</td>\n",
       "      <td>7.0</td>\n",
       "      <td>168.54</td>\n",
       "      <td>0</td>\n",
       "    </tr>\n",
       "    <tr>\n",
       "      <th>3</th>\n",
       "      <td>20.0</td>\n",
       "      <td>25.0</td>\n",
       "      <td>4</td>\n",
       "      <td>Fashion</td>\n",
       "      <td>3</td>\n",
       "      <td>Divorced</td>\n",
       "      <td>7</td>\n",
       "      <td>0</td>\n",
       "      <td>9.0</td>\n",
       "      <td>230.27</td>\n",
       "      <td>0</td>\n",
       "    </tr>\n",
       "    <tr>\n",
       "      <th>5</th>\n",
       "      <td>7.0</td>\n",
       "      <td>16.0</td>\n",
       "      <td>4</td>\n",
       "      <td>Mobile Phone</td>\n",
       "      <td>2</td>\n",
       "      <td>Divorced</td>\n",
       "      <td>2</td>\n",
       "      <td>0</td>\n",
       "      <td>11.0</td>\n",
       "      <td>152.81</td>\n",
       "      <td>0</td>\n",
       "    </tr>\n",
       "    <tr>\n",
       "      <th>...</th>\n",
       "      <td>...</td>\n",
       "      <td>...</td>\n",
       "      <td>...</td>\n",
       "      <td>...</td>\n",
       "      <td>...</td>\n",
       "      <td>...</td>\n",
       "      <td>...</td>\n",
       "      <td>...</td>\n",
       "      <td>...</td>\n",
       "      <td>...</td>\n",
       "      <td>...</td>\n",
       "    </tr>\n",
       "    <tr>\n",
       "      <th>3936</th>\n",
       "      <td>28.0</td>\n",
       "      <td>9.0</td>\n",
       "      <td>5</td>\n",
       "      <td>Fashion</td>\n",
       "      <td>3</td>\n",
       "      <td>Married</td>\n",
       "      <td>8</td>\n",
       "      <td>0</td>\n",
       "      <td>1.0</td>\n",
       "      <td>231.86</td>\n",
       "      <td>0</td>\n",
       "    </tr>\n",
       "    <tr>\n",
       "      <th>3937</th>\n",
       "      <td>8.0</td>\n",
       "      <td>7.0</td>\n",
       "      <td>2</td>\n",
       "      <td>Mobile Phone</td>\n",
       "      <td>2</td>\n",
       "      <td>Single</td>\n",
       "      <td>4</td>\n",
       "      <td>0</td>\n",
       "      <td>4.0</td>\n",
       "      <td>157.80</td>\n",
       "      <td>0</td>\n",
       "    </tr>\n",
       "    <tr>\n",
       "      <th>3938</th>\n",
       "      <td>30.0</td>\n",
       "      <td>6.0</td>\n",
       "      <td>5</td>\n",
       "      <td>Laptop &amp; Accessory</td>\n",
       "      <td>3</td>\n",
       "      <td>Married</td>\n",
       "      <td>3</td>\n",
       "      <td>1</td>\n",
       "      <td>2.0</td>\n",
       "      <td>156.60</td>\n",
       "      <td>0</td>\n",
       "    </tr>\n",
       "    <tr>\n",
       "      <th>3939</th>\n",
       "      <td>6.0</td>\n",
       "      <td>9.0</td>\n",
       "      <td>4</td>\n",
       "      <td>Mobile</td>\n",
       "      <td>3</td>\n",
       "      <td>Married</td>\n",
       "      <td>10</td>\n",
       "      <td>1</td>\n",
       "      <td>0.0</td>\n",
       "      <td>124.37</td>\n",
       "      <td>1</td>\n",
       "    </tr>\n",
       "    <tr>\n",
       "      <th>3940</th>\n",
       "      <td>2.0</td>\n",
       "      <td>7.0</td>\n",
       "      <td>3</td>\n",
       "      <td>Laptop &amp; Accessory</td>\n",
       "      <td>5</td>\n",
       "      <td>Married</td>\n",
       "      <td>1</td>\n",
       "      <td>0</td>\n",
       "      <td>2.0</td>\n",
       "      <td>153.73</td>\n",
       "      <td>0</td>\n",
       "    </tr>\n",
       "  </tbody>\n",
       "</table>\n",
       "<p>3261 rows × 11 columns</p>\n",
       "</div>"
      ],
      "text/plain": [
       "      Tenure  WarehouseToHome  NumberOfDeviceRegistered    PreferedOrderCat  \\\n",
       "0       15.0             29.0                         4  Laptop & Accessory   \n",
       "1        7.0             25.0                         4              Mobile   \n",
       "2       27.0             13.0                         3  Laptop & Accessory   \n",
       "3       20.0             25.0                         4             Fashion   \n",
       "5        7.0             16.0                         4        Mobile Phone   \n",
       "...      ...              ...                       ...                 ...   \n",
       "3936    28.0              9.0                         5             Fashion   \n",
       "3937     8.0              7.0                         2        Mobile Phone   \n",
       "3938    30.0              6.0                         5  Laptop & Accessory   \n",
       "3939     6.0              9.0                         4              Mobile   \n",
       "3940     2.0              7.0                         3  Laptop & Accessory   \n",
       "\n",
       "      SatisfactionScore MaritalStatus  NumberOfAddress  Complain  \\\n",
       "0                     3        Single                2         0   \n",
       "1                     1       Married                2         0   \n",
       "2                     1       Married                5         0   \n",
       "3                     3      Divorced                7         0   \n",
       "5                     2      Divorced                2         0   \n",
       "...                 ...           ...              ...       ...   \n",
       "3936                  3       Married                8         0   \n",
       "3937                  2        Single                4         0   \n",
       "3938                  3       Married                3         1   \n",
       "3939                  3       Married               10         1   \n",
       "3940                  5       Married                1         0   \n",
       "\n",
       "      DaySinceLastOrder  CashbackAmount  Churn  \n",
       "0                   7.0          143.32      0  \n",
       "1                   7.0          129.29      0  \n",
       "2                   7.0          168.54      0  \n",
       "3                   9.0          230.27      0  \n",
       "5                  11.0          152.81      0  \n",
       "...                 ...             ...    ...  \n",
       "3936                1.0          231.86      0  \n",
       "3937                4.0          157.80      0  \n",
       "3938                2.0          156.60      0  \n",
       "3939                0.0          124.37      1  \n",
       "3940                2.0          153.73      0  \n",
       "\n",
       "[3261 rows x 11 columns]"
      ]
     },
     "execution_count": 21,
     "metadata": {},
     "output_type": "execute_result"
    }
   ],
   "source": [
    "# Drop Duplicated Rows\n",
    "\n",
    "df = df.drop_duplicates(keep='last')\n",
    "df"
   ]
  },
  {
   "cell_type": "markdown",
   "metadata": {},
   "source": [
    "In this step we can ensure no more duplicated rows and missing value"
   ]
  },
  {
   "cell_type": "markdown",
   "metadata": {},
   "source": [
    "# **EDA**"
   ]
  },
  {
   "cell_type": "markdown",
   "metadata": {},
   "source": [
    "### *`Tenure`*"
   ]
  },
  {
   "cell_type": "code",
   "execution_count": 22,
   "metadata": {},
   "outputs": [
    {
     "data": {
      "text/html": [
       "<div>\n",
       "<style scoped>\n",
       "    .dataframe tbody tr th:only-of-type {\n",
       "        vertical-align: middle;\n",
       "    }\n",
       "\n",
       "    .dataframe tbody tr th {\n",
       "        vertical-align: top;\n",
       "    }\n",
       "\n",
       "    .dataframe thead th {\n",
       "        text-align: right;\n",
       "    }\n",
       "</style>\n",
       "<table border=\"1\" class=\"dataframe\">\n",
       "  <thead>\n",
       "    <tr style=\"text-align: right;\">\n",
       "      <th></th>\n",
       "      <th>Tenure</th>\n",
       "      <th>WarehouseToHome</th>\n",
       "      <th>NumberOfDeviceRegistered</th>\n",
       "      <th>PreferedOrderCat</th>\n",
       "      <th>SatisfactionScore</th>\n",
       "      <th>MaritalStatus</th>\n",
       "      <th>NumberOfAddress</th>\n",
       "      <th>Complain</th>\n",
       "      <th>DaySinceLastOrder</th>\n",
       "      <th>CashbackAmount</th>\n",
       "      <th>Churn</th>\n",
       "    </tr>\n",
       "  </thead>\n",
       "  <tbody>\n",
       "  </tbody>\n",
       "</table>\n",
       "</div>"
      ],
      "text/plain": [
       "Empty DataFrame\n",
       "Columns: [Tenure, WarehouseToHome, NumberOfDeviceRegistered, PreferedOrderCat, SatisfactionScore, MaritalStatus, NumberOfAddress, Complain, DaySinceLastOrder, CashbackAmount, Churn]\n",
       "Index: []"
      ]
     },
     "execution_count": 22,
     "metadata": {},
     "output_type": "execute_result"
    }
   ],
   "source": [
    "df[df['NumberOfAddress']==21]"
   ]
  },
  {
   "cell_type": "code",
   "execution_count": 23,
   "metadata": {},
   "outputs": [
    {
     "data": {
      "text/plain": [
       "Text(0, 0.5, 'Churn')"
      ]
     },
     "execution_count": 23,
     "metadata": {},
     "output_type": "execute_result"
    },
    {
     "data": {
      "image/png": "[encoded data removed]",
      "text/plain": [
       "<Figure size 2000x300 with 1 Axes>"
      ]
     },
     "metadata": {},
     "output_type": "display_data"
    }
   ],
   "source": [
    "# Create Tenure Barplot\n",
    "\n",
    "plt.figure(figsize=(20,3))\n",
    "sns.set_style()\n",
    "\n",
    "ax= sns.barplot( data=df,\n",
    "    x= 'Tenure',\n",
    "    y= 'Churn',\n",
    "    estimator=len,\n",
    "    hue='Churn',\n",
    "    palette='flare_r')\n",
    "\n",
    "# Value lable\n",
    "for i in range(0,2):\n",
    "    for bar in ax.containers[i]:\n",
    "        ax.text(bar.get_x() + bar.get_width() / 2, bar.get_height(), \n",
    "                round(bar.get_height()),\n",
    "                ha='center', va='bottom')\n",
    "\n",
    "plt.title('Tenure to Churn')\n",
    "plt.xlabel('Tenure')\n",
    "plt.ylabel('Churn')\n"
   ]
  },
  {
   "cell_type": "markdown",
   "metadata": {},
   "source": [
    "With this barplot we can see that the shortest customer's tenure tend to affect churn more. The 0 tenure has more churn customer than  the others, with this case we can say that this type of customer is only the single time buyer and not using the platform anymore. Otherwise the longer customer's tenure has very low count of churn, means this is the visualization of loyal customers"
   ]
  },
  {
   "cell_type": "markdown",
   "metadata": {},
   "source": [
    "### *`Warehouse to Home Distance`*"
   ]
  },
  {
   "cell_type": "code",
   "execution_count": 24,
   "metadata": {},
   "outputs": [
    {
     "data": {
      "text/plain": [
       "Text(0, 0.5, 'Churn')"
      ]
     },
     "execution_count": 24,
     "metadata": {},
     "output_type": "execute_result"
    },
    {
     "data": {
      "image/png": "[encoded data removed]",
      "text/plain": [
       "<Figure size 2000x300 with 1 Axes>"
      ]
     },
     "metadata": {},
     "output_type": "display_data"
    }
   ],
   "source": [
    "# Create WarehouseToHome Barplot\n",
    "\n",
    "plt.figure(figsize=(20,3))\n",
    "\n",
    "ax= sns.barplot(\n",
    "    data=df,\n",
    "    x= 'WarehouseToHome',\n",
    "    y= 'Churn',\n",
    "    estimator=len,\n",
    "    hue='Churn',\n",
    "    palette='flare_r')\n",
    "    \n",
    "# Value lable\n",
    "for i in range(0,2):\n",
    "    for bar in ax.containers[i]:\n",
    "        ax.text(bar.get_x() + bar.get_width() / 2, bar.get_height(), \n",
    "                round(bar.get_height()),\n",
    "                ha='center', va='bottom')\n",
    "\n",
    "plt.title('WarehouseToHome to Churn')\n",
    "plt.xlabel('WarehouseToHome')\n",
    "plt.ylabel('Churn')"
   ]
  },
  {
   "cell_type": "code",
   "execution_count": 25,
   "metadata": {},
   "outputs": [
    {
     "data": {
      "text/plain": [
       "13.0"
      ]
     },
     "execution_count": 25,
     "metadata": {},
     "output_type": "execute_result"
    }
   ],
   "source": [
    "df['WarehouseToHome'].median()"
   ]
  },
  {
   "cell_type": "markdown",
   "metadata": {},
   "source": [
    "The plot of distance from warehouse to customer's house showing us that the longer the distance doesn't affect the churn rate much, there is no churn is higher than not churn. This proves that longer distance or delivery time doesn't leads to high churn rate. The most common distance is 9 and median of distance is 13"
   ]
  },
  {
   "cell_type": "markdown",
   "metadata": {},
   "source": [
    "### *`Number of Device Registered`*"
   ]
  },
  {
   "cell_type": "code",
   "execution_count": 26,
   "metadata": {},
   "outputs": [
    {
     "data": {
      "text/plain": [
       "Text(0, 0.5, 'Churn')"
      ]
     },
     "execution_count": 26,
     "metadata": {},
     "output_type": "execute_result"
    },
    {
     "data": {
      "image/png": "[encoded data removed]",
      "text/plain": [
       "<Figure size 1000x300 with 1 Axes>"
      ]
     },
     "metadata": {},
     "output_type": "display_data"
    }
   ],
   "source": [
    "# Create Tenure Barplot\n",
    "\n",
    "plt.figure(figsize=(10,3))\n",
    "\n",
    "ax= sns.barplot(\n",
    "    data=df,\n",
    "    x= 'NumberOfDeviceRegistered',\n",
    "    y= 'Churn',\n",
    "    estimator=len,\n",
    "    hue='Churn',\n",
    "    palette='flare_r')\n",
    "\n",
    "# Value lable\n",
    "for i in range(0,2):\n",
    "    for bar in ax.containers[i]:\n",
    "        ax.text(bar.get_x() + bar.get_width() / 2, bar.get_height(), \n",
    "                round(bar.get_height()),\n",
    "                ha='center', va='bottom')\n",
    "\n",
    "\n",
    "plt.title('NumberOfDeviceRegistered to Churn')\n",
    "plt.xlabel('NumberOfDeviceRegistered')\n",
    "plt.ylabel('Churn')"
   ]
  },
  {
   "cell_type": "code",
   "execution_count": 27,
   "metadata": {},
   "outputs": [
    {
     "data": {
      "text/html": [
       "<div>\n",
       "<style scoped>\n",
       "    .dataframe tbody tr th:only-of-type {\n",
       "        vertical-align: middle;\n",
       "    }\n",
       "\n",
       "    .dataframe tbody tr th {\n",
       "        vertical-align: top;\n",
       "    }\n",
       "\n",
       "    .dataframe thead th {\n",
       "        text-align: right;\n",
       "    }\n",
       "</style>\n",
       "<table border=\"1\" class=\"dataframe\">\n",
       "  <thead>\n",
       "    <tr style=\"text-align: right;\">\n",
       "      <th></th>\n",
       "      <th>NumOfDeviceReg</th>\n",
       "      <th>Churn Percentage</th>\n",
       "    </tr>\n",
       "  </thead>\n",
       "  <tbody>\n",
       "    <tr>\n",
       "      <th>0</th>\n",
       "      <td>1</td>\n",
       "      <td>10.218978</td>\n",
       "    </tr>\n",
       "    <tr>\n",
       "      <th>1</th>\n",
       "      <td>2</td>\n",
       "      <td>7.361963</td>\n",
       "    </tr>\n",
       "    <tr>\n",
       "      <th>2</th>\n",
       "      <td>3</td>\n",
       "      <td>14.271255</td>\n",
       "    </tr>\n",
       "    <tr>\n",
       "      <th>3</th>\n",
       "      <td>4</td>\n",
       "      <td>16.175413</td>\n",
       "    </tr>\n",
       "    <tr>\n",
       "      <th>4</th>\n",
       "      <td>5</td>\n",
       "      <td>22.312373</td>\n",
       "    </tr>\n",
       "    <tr>\n",
       "      <th>5</th>\n",
       "      <td>6</td>\n",
       "      <td>33.707865</td>\n",
       "    </tr>\n",
       "  </tbody>\n",
       "</table>\n",
       "</div>"
      ],
      "text/plain": [
       "  NumOfDeviceReg  Churn Percentage\n",
       "0              1         10.218978\n",
       "1              2          7.361963\n",
       "2              3         14.271255\n",
       "3              4         16.175413\n",
       "4              5         22.312373\n",
       "5              6         33.707865"
      ]
     },
     "execution_count": 27,
     "metadata": {},
     "output_type": "execute_result"
    }
   ],
   "source": [
    "# Percentage of Churn\n",
    "\n",
    "pctNDR = []\n",
    "for i in range(1,7):\n",
    "    pctNDR.append((((df['NumberOfDeviceRegistered']==i) & (df['Churn']==1)).sum() / (df['NumberOfDeviceRegistered']==i).sum()*100))\n",
    "\n",
    "NDRChurnPct = pd.DataFrame({'NumOfDeviceReg':['1', '2', '3', '4', '5', '6'],'Churn Percentage':pctNDR})\n",
    "NDRChurnPct"
   ]
  },
  {
   "cell_type": "markdown",
   "metadata": {},
   "source": [
    "This visualization showing that the highest count of device registered is 4 device and also contribute to highest churn count by category. Even so, proportion wise the 4 device is not the highest among all, the highest is 6 device and the lowest is 2 device. From this pattern we can say the more device registered has tendecy to be a churn customer, we also can see the percentage is increasing as the device goes up."
   ]
  },
  {
   "cell_type": "markdown",
   "metadata": {},
   "source": [
    "### *`Prefered Order Category`*"
   ]
  },
  {
   "cell_type": "code",
   "execution_count": 28,
   "metadata": {},
   "outputs": [
    {
     "data": {
      "text/plain": [
       "Text(0, 0.5, 'Churn')"
      ]
     },
     "execution_count": 28,
     "metadata": {},
     "output_type": "execute_result"
    },
    {
     "data": {
      "image/png": "[encoded data removed]",
      "text/plain": [
       "<Figure size 1000x300 with 1 Axes>"
      ]
     },
     "metadata": {},
     "output_type": "display_data"
    }
   ],
   "source": [
    "# Create PreferedOrderCat Barplot\n",
    "\n",
    "plt.figure(figsize=(10,3))\n",
    "\n",
    "ax= sns.barplot(\n",
    "    data=df,\n",
    "    x= 'PreferedOrderCat',\n",
    "    y= 'Churn',\n",
    "    estimator=len,\n",
    "    hue='Churn',\n",
    "    palette='flare_r')\n",
    "\n",
    "# Value lable\n",
    "for i in range(0,2):\n",
    "    for bar in ax.containers[i]:\n",
    "        ax.text(bar.get_x() + bar.get_width() / 2, bar.get_height(), \n",
    "                round(bar.get_height()),\n",
    "                ha='center', va='bottom')\n",
    "\n",
    "plt.title('PreferedOrderCat to Churn')\n",
    "plt.xlabel('PreferedOrderCat')\n",
    "plt.ylabel('Churn')"
   ]
  },
  {
   "cell_type": "markdown",
   "metadata": {},
   "source": [
    "This section shows us the category that is most favorable to customer is Laptop & Accesory. Churn count wise we can see that Grocery and Others are the categories with a very low count of churn"
   ]
  },
  {
   "cell_type": "markdown",
   "metadata": {},
   "source": [
    "### *`Satisfaction Score`*"
   ]
  },
  {
   "cell_type": "code",
   "execution_count": 29,
   "metadata": {},
   "outputs": [
    {
     "data": {
      "text/plain": [
       "Text(0, 0.5, 'Churn')"
      ]
     },
     "execution_count": 29,
     "metadata": {},
     "output_type": "execute_result"
    },
    {
     "data": {
      "image/png": "[encoded data removed]",
      "text/plain": [
       "<Figure size 1000x400 with 1 Axes>"
      ]
     },
     "metadata": {},
     "output_type": "display_data"
    }
   ],
   "source": [
    "# Create SatisfactionScore Barplot\n",
    "\n",
    "plt.figure(figsize=(10,4))\n",
    "\n",
    "ax= sns.barplot(\n",
    "    data=df,\n",
    "    x= 'SatisfactionScore',\n",
    "    y= 'Churn',\n",
    "    estimator=len,\n",
    "    hue='Churn',\n",
    "    palette='flare_r')\n",
    "\n",
    "# Value lable\n",
    "for i in range(0,2):\n",
    "    for bar in ax.containers[i]:\n",
    "        ax.text(bar.get_x() + bar.get_width() / 2, bar.get_height(), \n",
    "                round(bar.get_height()),\n",
    "                ha='center', va='bottom')\n",
    "\n",
    "plt.title('SatisfactionScore to Churn')\n",
    "plt.xlabel('SatisfactionScore')\n",
    "plt.ylabel('Churn')"
   ]
  },
  {
   "cell_type": "code",
   "execution_count": 30,
   "metadata": {},
   "outputs": [
    {
     "data": {
      "text/html": [
       "<div>\n",
       "<style scoped>\n",
       "    .dataframe tbody tr th:only-of-type {\n",
       "        vertical-align: middle;\n",
       "    }\n",
       "\n",
       "    .dataframe tbody tr th {\n",
       "        vertical-align: top;\n",
       "    }\n",
       "\n",
       "    .dataframe thead th {\n",
       "        text-align: right;\n",
       "    }\n",
       "</style>\n",
       "<table border=\"1\" class=\"dataframe\">\n",
       "  <thead>\n",
       "    <tr style=\"text-align: right;\">\n",
       "      <th></th>\n",
       "      <th>NumOfDeviceReg</th>\n",
       "      <th>Churn Percentage</th>\n",
       "    </tr>\n",
       "  </thead>\n",
       "  <tbody>\n",
       "    <tr>\n",
       "      <th>0</th>\n",
       "      <td>1</td>\n",
       "      <td>10.218978</td>\n",
       "    </tr>\n",
       "    <tr>\n",
       "      <th>1</th>\n",
       "      <td>2</td>\n",
       "      <td>7.361963</td>\n",
       "    </tr>\n",
       "    <tr>\n",
       "      <th>2</th>\n",
       "      <td>3</td>\n",
       "      <td>14.271255</td>\n",
       "    </tr>\n",
       "    <tr>\n",
       "      <th>3</th>\n",
       "      <td>4</td>\n",
       "      <td>16.175413</td>\n",
       "    </tr>\n",
       "    <tr>\n",
       "      <th>4</th>\n",
       "      <td>5</td>\n",
       "      <td>22.312373</td>\n",
       "    </tr>\n",
       "  </tbody>\n",
       "</table>\n",
       "</div>"
      ],
      "text/plain": [
       "  NumOfDeviceReg  Churn Percentage\n",
       "0              1         10.218978\n",
       "1              2          7.361963\n",
       "2              3         14.271255\n",
       "3              4         16.175413\n",
       "4              5         22.312373"
      ]
     },
     "execution_count": 30,
     "metadata": {},
     "output_type": "execute_result"
    }
   ],
   "source": [
    "# Percentage of Satisfaction Score\n",
    "\n",
    "pctSS = []\n",
    "for i in range(1,6):\n",
    "    pctSS.append((((df['NumberOfDeviceRegistered']==i) & (df['Churn']==1)).sum() / (df['NumberOfDeviceRegistered']==i).sum()*100))\n",
    "\n",
    "SSChurnPct = pd.DataFrame({'NumOfDeviceReg':['1', '2', '3', '4', '5'],'Churn Percentage':pctSS})\n",
    "SSChurnPct"
   ]
  },
  {
   "cell_type": "markdown",
   "metadata": {},
   "source": [
    "Highest satisfaction score count is 3 which is the moderate score, but we can see that is the more considerable to churn rate is the highest score which is 5 with 22.3% of churn rate"
   ]
  },
  {
   "cell_type": "markdown",
   "metadata": {},
   "source": [
    "### *`Marital Status`*"
   ]
  },
  {
   "cell_type": "code",
   "execution_count": 31,
   "metadata": {},
   "outputs": [
    {
     "data": {
      "text/plain": [
       "Text(0, 0.5, 'Churn')"
      ]
     },
     "execution_count": 31,
     "metadata": {},
     "output_type": "execute_result"
    },
    {
     "data": {
      "image/png": "[encoded data removed]",
      "text/plain": [
       "<Figure size 600x500 with 1 Axes>"
      ]
     },
     "metadata": {},
     "output_type": "display_data"
    }
   ],
   "source": [
    "# Create MaritalStatus Barplot\n",
    "\n",
    "plt.figure(figsize=(6,5))\n",
    "\n",
    "ax= sns.barplot(\n",
    "    data=df,\n",
    "    x= 'MaritalStatus',\n",
    "    y= 'Churn',\n",
    "    estimator=len,\n",
    "    hue='Churn',\n",
    "    palette='flare_r')\n",
    "\n",
    "# Value lable\n",
    "for i in range(0,2):\n",
    "    for bar in ax.containers[i]:\n",
    "        ax.text(bar.get_x() + bar.get_width() / 2, bar.get_height(), \n",
    "                round(bar.get_height()),\n",
    "                ha='center', va='bottom')\n",
    "\n",
    "plt.title('MaritalStatus to Churn')\n",
    "plt.xlabel('MaritalStatus')\n",
    "plt.ylabel('Churn')"
   ]
  },
  {
   "cell_type": "markdown",
   "metadata": {},
   "source": [
    "The dar plot above showing that customer who are single has highest count of churn"
   ]
  },
  {
   "cell_type": "markdown",
   "metadata": {},
   "source": [
    "### *`Number of Address`*"
   ]
  },
  {
   "cell_type": "code",
   "execution_count": 32,
   "metadata": {},
   "outputs": [
    {
     "data": {
      "text/plain": [
       "Text(0, 0.5, 'Churn')"
      ]
     },
     "execution_count": 32,
     "metadata": {},
     "output_type": "execute_result"
    },
    {
     "data": {
      "image/png": "[encoded data removed]",
      "text/plain": [
       "<Figure size 2000x500 with 1 Axes>"
      ]
     },
     "metadata": {},
     "output_type": "display_data"
    }
   ],
   "source": [
    "# Create NumberOfAddress Barplot\n",
    "\n",
    "plt.figure(figsize=(20,5))\n",
    "\n",
    "ax= sns.barplot(\n",
    "    data=df,\n",
    "    x= 'NumberOfAddress',\n",
    "    y= 'Churn',\n",
    "    estimator=len,\n",
    "    hue='Churn',\n",
    "    palette='flare_r')\n",
    "\n",
    "# Value lable\n",
    "for i in range(0,2):\n",
    "    for bar in ax.containers[i]:\n",
    "        ax.text(bar.get_x() + bar.get_width() / 2, bar.get_height(), \n",
    "                round(bar.get_height()),\n",
    "                ha='center', va='bottom')\n",
    "\n",
    "plt.title('NumberOfAddress to Churn')\n",
    "plt.xlabel('NumberOfAddress')\n",
    "plt.ylabel('Churn')"
   ]
  },
  {
   "cell_type": "code",
   "execution_count": 33,
   "metadata": {},
   "outputs": [
    {
     "data": {
      "text/html": [
       "<div>\n",
       "<style scoped>\n",
       "    .dataframe tbody tr th:only-of-type {\n",
       "        vertical-align: middle;\n",
       "    }\n",
       "\n",
       "    .dataframe tbody tr th {\n",
       "        vertical-align: top;\n",
       "    }\n",
       "\n",
       "    .dataframe thead th {\n",
       "        text-align: right;\n",
       "    }\n",
       "</style>\n",
       "<table border=\"1\" class=\"dataframe\">\n",
       "  <thead>\n",
       "    <tr style=\"text-align: right;\">\n",
       "      <th></th>\n",
       "      <th>0</th>\n",
       "      <th>1</th>\n",
       "      <th>2</th>\n",
       "      <th>3</th>\n",
       "      <th>4</th>\n",
       "      <th>5</th>\n",
       "      <th>6</th>\n",
       "      <th>7</th>\n",
       "      <th>8</th>\n",
       "      <th>9</th>\n",
       "      <th>10</th>\n",
       "    </tr>\n",
       "  </thead>\n",
       "  <tbody>\n",
       "    <tr>\n",
       "      <th>NumOfAdd</th>\n",
       "      <td>1</td>\n",
       "      <td>2</td>\n",
       "      <td>3</td>\n",
       "      <td>4</td>\n",
       "      <td>5</td>\n",
       "      <td>6</td>\n",
       "      <td>7</td>\n",
       "      <td>8</td>\n",
       "      <td>9</td>\n",
       "      <td>10</td>\n",
       "      <td>11</td>\n",
       "    </tr>\n",
       "    <tr>\n",
       "      <th>Churn Percentage</th>\n",
       "      <td>9.777778</td>\n",
       "      <td>17.305315</td>\n",
       "      <td>17.565698</td>\n",
       "      <td>10.606061</td>\n",
       "      <td>11.890244</td>\n",
       "      <td>16.972477</td>\n",
       "      <td>22.916667</td>\n",
       "      <td>21.301775</td>\n",
       "      <td>19.708029</td>\n",
       "      <td>17.79661</td>\n",
       "      <td>25.0</td>\n",
       "    </tr>\n",
       "  </tbody>\n",
       "</table>\n",
       "</div>"
      ],
      "text/plain": [
       "                        0          1          2          3          4   \\\n",
       "NumOfAdd                 1          2          3          4          5   \n",
       "Churn Percentage  9.777778  17.305315  17.565698  10.606061  11.890244   \n",
       "\n",
       "                         5          6          7          8         9     10  \n",
       "NumOfAdd                  6          7          8          9        10    11  \n",
       "Churn Percentage  16.972477  22.916667  21.301775  19.708029  17.79661  25.0  "
      ]
     },
     "execution_count": 33,
     "metadata": {},
     "output_type": "execute_result"
    }
   ],
   "source": [
    "# Percentage of Satisfaction Score\n",
    "\n",
    "pctNAC = []\n",
    "for i in range(1,12):\n",
    "    pctNAC.append((((df['NumberOfAddress']==i) & (df['Churn']==1)).sum() / (df['NumberOfAddress']==i).sum()*100))\n",
    "\n",
    "NACChurnPct = pd.DataFrame({'NumOfAdd':['1', '2', '3', '4', '5', '6', '7', '8', '9', '10', '11'],'Churn Percentage':pctNAC})\n",
    "NACChurnPct.T"
   ]
  },
  {
   "cell_type": "markdown",
   "metadata": {},
   "source": [
    "We can see here that the 2 Address is the highest contributor to churn count. Otherwise the highest percentage of churn is 11 Address"
   ]
  },
  {
   "cell_type": "markdown",
   "metadata": {},
   "source": [
    "### *`Complain`*"
   ]
  },
  {
   "cell_type": "code",
   "execution_count": 34,
   "metadata": {},
   "outputs": [
    {
     "data": {
      "text/plain": [
       "Text(0, 0.5, 'Churn')"
      ]
     },
     "execution_count": 34,
     "metadata": {},
     "output_type": "execute_result"
    },
    {
     "data": {
      "image/png": "[encoded data removed]",
      "text/plain": [
       "<Figure size 500x500 with 1 Axes>"
      ]
     },
     "metadata": {},
     "output_type": "display_data"
    }
   ],
   "source": [
    "# Create Complain Barplot\n",
    "\n",
    "plt.figure(figsize=(5,5))\n",
    "\n",
    "ax= sns.barplot(\n",
    "    data=df,\n",
    "    x= 'Complain',\n",
    "    y= 'Churn',\n",
    "    estimator=len,\n",
    "    hue='Churn',\n",
    "    palette='flare_r')\n",
    "\n",
    "# Value lable\n",
    "for i in range(0,2):\n",
    "    for bar in ax.containers[i]:\n",
    "        ax.text(bar.get_x() + bar.get_width() / 2, bar.get_height(), \n",
    "                round(bar.get_height()),\n",
    "                ha='center', va='bottom')\n",
    "\n",
    "plt.title('Complain to Churn')\n",
    "plt.xlabel('Complain')\n",
    "plt.ylabel('Churn')"
   ]
  },
  {
   "cell_type": "code",
   "execution_count": 35,
   "metadata": {},
   "outputs": [
    {
     "data": {
      "text/html": [
       "<div>\n",
       "<style scoped>\n",
       "    .dataframe tbody tr th:only-of-type {\n",
       "        vertical-align: middle;\n",
       "    }\n",
       "\n",
       "    .dataframe tbody tr th {\n",
       "        vertical-align: top;\n",
       "    }\n",
       "\n",
       "    .dataframe thead th {\n",
       "        text-align: right;\n",
       "    }\n",
       "</style>\n",
       "<table border=\"1\" class=\"dataframe\">\n",
       "  <thead>\n",
       "    <tr style=\"text-align: right;\">\n",
       "      <th></th>\n",
       "      <th>Complain</th>\n",
       "      <th>Churn Percentage</th>\n",
       "    </tr>\n",
       "  </thead>\n",
       "  <tbody>\n",
       "    <tr>\n",
       "      <th>0</th>\n",
       "      <td>1</td>\n",
       "      <td>10.243278</td>\n",
       "    </tr>\n",
       "    <tr>\n",
       "      <th>1</th>\n",
       "      <td>2</td>\n",
       "      <td>31.808279</td>\n",
       "    </tr>\n",
       "  </tbody>\n",
       "</table>\n",
       "</div>"
      ],
      "text/plain": [
       "  Complain  Churn Percentage\n",
       "0        1         10.243278\n",
       "1        2         31.808279"
      ]
     },
     "execution_count": 35,
     "metadata": {},
     "output_type": "execute_result"
    }
   ],
   "source": [
    "# Percentage of Satisfaction Score\n",
    "\n",
    "pctComp = []\n",
    "for i in range(0,2):\n",
    "    pctComp.append((((df['Complain']==i) & (df['Churn']==1)).sum() / (df['Complain']==i).sum()*100))\n",
    "CompChurnPct = pd.DataFrame({'Complain':['1', '2'],'Churn Percentage':pctComp})\n",
    "CompChurnPct"
   ]
  },
  {
   "cell_type": "markdown",
   "metadata": {},
   "source": [
    "The plot tells us the highest percentage of churn is the customer with complain at **31.8%**"
   ]
  },
  {
   "cell_type": "markdown",
   "metadata": {},
   "source": [
    "# **Imbalance**"
   ]
  },
  {
   "cell_type": "markdown",
   "metadata": {},
   "source": [
    "For a better result in modeling we need to see the dataset has an imbalance target or not. In this terms we will do proportion checking on target which is **Churn** columns"
   ]
  },
  {
   "cell_type": "code",
   "execution_count": 36,
   "metadata": {},
   "outputs": [
    {
     "data": {
      "text/html": [
       "<div>\n",
       "<style scoped>\n",
       "    .dataframe tbody tr th:only-of-type {\n",
       "        vertical-align: middle;\n",
       "    }\n",
       "\n",
       "    .dataframe tbody tr th {\n",
       "        vertical-align: top;\n",
       "    }\n",
       "\n",
       "    .dataframe thead th {\n",
       "        text-align: right;\n",
       "    }\n",
       "</style>\n",
       "<table border=\"1\" class=\"dataframe\">\n",
       "  <thead>\n",
       "    <tr style=\"text-align: right;\">\n",
       "      <th></th>\n",
       "      <th>Churn</th>\n",
       "    </tr>\n",
       "  </thead>\n",
       "  <tbody>\n",
       "    <tr>\n",
       "      <th>0</th>\n",
       "      <td>2729</td>\n",
       "    </tr>\n",
       "    <tr>\n",
       "      <th>1</th>\n",
       "      <td>532</td>\n",
       "    </tr>\n",
       "  </tbody>\n",
       "</table>\n",
       "</div>"
      ],
      "text/plain": [
       "   Churn\n",
       "0   2729\n",
       "1    532"
      ]
     },
     "execution_count": 36,
     "metadata": {},
     "output_type": "execute_result"
    }
   ],
   "source": [
    "# Create Proportion DF\n",
    "\n",
    "churnPie = df['Churn'].value_counts()\n",
    "churnPie = pd.DataFrame(churnPie)\n",
    "churnPie"
   ]
  },
  {
   "cell_type": "markdown",
   "metadata": {},
   "source": [
    "The initial count showing that **class 0: not churn has more count that class 1: churn**, let's see in pie chart form"
   ]
  },
  {
   "cell_type": "code",
   "execution_count": 37,
   "metadata": {},
   "outputs": [
    {
     "data": {
      "image/png": "[encoded data removed]",
      "text/plain": [
       "<Figure size 600x600 with 1 Axes>"
      ]
     },
     "metadata": {},
     "output_type": "display_data"
    }
   ],
   "source": [
    "# Imbalance in Pie Chart\n",
    "\n",
    "plt.figure(figsize=(6,6))\n",
    "plt.title('Churn Proportion')\n",
    "\n",
    "plt.pie(x=churnPie['Churn'],\n",
    "        autopct=f'%1.1f%%',\n",
    "        shadow=True,\n",
    "        labels=['Not Churn','Churn'],\n",
    "        colors=sns.color_palette('flare'),\n",
    "        explode=(0.05,0.05))\n",
    "sns.set_style('whitegrid')\n"
   ]
  },
  {
   "cell_type": "markdown",
   "metadata": {},
   "source": [
    "Imbalance checking with proportion showing that the Churn is imbalance, treatment needed for this situation. Imbalance treatment will applied in the pipline while we arrange the modeling"
   ]
  },
  {
   "cell_type": "markdown",
   "metadata": {},
   "source": [
    "# **Data Preprocessing**"
   ]
  },
  {
   "cell_type": "markdown",
   "metadata": {},
   "source": [
    "Data prepocesing step is the step where we process cleaned data into the transformed data to be fitted for model testing.<br>\n",
    "Initially we would like to do checking into each data type and value, hence we able to decide what to do in preprocessing.<br>\n",
    "Let's look again to cleaned data to ensure the data is clean and to identify the data type."
   ]
  },
  {
   "cell_type": "code",
   "execution_count": 38,
   "metadata": {},
   "outputs": [
    {
     "data": {
      "text/html": [
       "<div>\n",
       "<style scoped>\n",
       "    .dataframe tbody tr th:only-of-type {\n",
       "        vertical-align: middle;\n",
       "    }\n",
       "\n",
       "    .dataframe tbody tr th {\n",
       "        vertical-align: top;\n",
       "    }\n",
       "\n",
       "    .dataframe thead th {\n",
       "        text-align: right;\n",
       "    }\n",
       "</style>\n",
       "<table border=\"1\" class=\"dataframe\">\n",
       "  <thead>\n",
       "    <tr style=\"text-align: right;\">\n",
       "      <th></th>\n",
       "      <th>Column</th>\n",
       "      <th>Data Type</th>\n",
       "      <th>Missing Value</th>\n",
       "      <th>Pct Missing Value</th>\n",
       "      <th>Num Unique</th>\n",
       "      <th>Unique Sample</th>\n",
       "      <th>Min Val</th>\n",
       "      <th>Max val</th>\n",
       "    </tr>\n",
       "  </thead>\n",
       "  <tbody>\n",
       "    <tr>\n",
       "      <th>0</th>\n",
       "      <td>Tenure</td>\n",
       "      <td>float64</td>\n",
       "      <td>0</td>\n",
       "      <td>0.0</td>\n",
       "      <td>34</td>\n",
       "      <td>[28.0, 51.0]</td>\n",
       "      <td>0.0</td>\n",
       "      <td>51.0</td>\n",
       "    </tr>\n",
       "    <tr>\n",
       "      <th>1</th>\n",
       "      <td>WarehouseToHome</td>\n",
       "      <td>float64</td>\n",
       "      <td>0</td>\n",
       "      <td>0.0</td>\n",
       "      <td>32</td>\n",
       "      <td>[14.0, 18.0]</td>\n",
       "      <td>5.0</td>\n",
       "      <td>36.0</td>\n",
       "    </tr>\n",
       "    <tr>\n",
       "      <th>2</th>\n",
       "      <td>NumberOfDeviceRegistered</td>\n",
       "      <td>int64</td>\n",
       "      <td>0</td>\n",
       "      <td>0.0</td>\n",
       "      <td>6</td>\n",
       "      <td>[1, 6]</td>\n",
       "      <td>1</td>\n",
       "      <td>6</td>\n",
       "    </tr>\n",
       "    <tr>\n",
       "      <th>3</th>\n",
       "      <td>PreferedOrderCat</td>\n",
       "      <td>object</td>\n",
       "      <td>0</td>\n",
       "      <td>0.0</td>\n",
       "      <td>6</td>\n",
       "      <td>[Laptop &amp; Accessory, Fashion]</td>\n",
       "      <td>Fashion</td>\n",
       "      <td>Others</td>\n",
       "    </tr>\n",
       "    <tr>\n",
       "      <th>4</th>\n",
       "      <td>SatisfactionScore</td>\n",
       "      <td>int64</td>\n",
       "      <td>0</td>\n",
       "      <td>0.0</td>\n",
       "      <td>5</td>\n",
       "      <td>[2, 4]</td>\n",
       "      <td>1</td>\n",
       "      <td>5</td>\n",
       "    </tr>\n",
       "    <tr>\n",
       "      <th>5</th>\n",
       "      <td>MaritalStatus</td>\n",
       "      <td>object</td>\n",
       "      <td>0</td>\n",
       "      <td>0.0</td>\n",
       "      <td>3</td>\n",
       "      <td>[Single, Married]</td>\n",
       "      <td>Divorced</td>\n",
       "      <td>Single</td>\n",
       "    </tr>\n",
       "    <tr>\n",
       "      <th>6</th>\n",
       "      <td>NumberOfAddress</td>\n",
       "      <td>int64</td>\n",
       "      <td>0</td>\n",
       "      <td>0.0</td>\n",
       "      <td>11</td>\n",
       "      <td>[9, 2]</td>\n",
       "      <td>1</td>\n",
       "      <td>11</td>\n",
       "    </tr>\n",
       "    <tr>\n",
       "      <th>7</th>\n",
       "      <td>Complain</td>\n",
       "      <td>int64</td>\n",
       "      <td>0</td>\n",
       "      <td>0.0</td>\n",
       "      <td>2</td>\n",
       "      <td>[1, 0]</td>\n",
       "      <td>0</td>\n",
       "      <td>1</td>\n",
       "    </tr>\n",
       "    <tr>\n",
       "      <th>8</th>\n",
       "      <td>DaySinceLastOrder</td>\n",
       "      <td>float64</td>\n",
       "      <td>0</td>\n",
       "      <td>0.0</td>\n",
       "      <td>19</td>\n",
       "      <td>[12.0, 15.0]</td>\n",
       "      <td>0.0</td>\n",
       "      <td>18.0</td>\n",
       "    </tr>\n",
       "    <tr>\n",
       "      <th>9</th>\n",
       "      <td>CashbackAmount</td>\n",
       "      <td>float64</td>\n",
       "      <td>0</td>\n",
       "      <td>0.0</td>\n",
       "      <td>2332</td>\n",
       "      <td>[127.56, 139.78]</td>\n",
       "      <td>0.0</td>\n",
       "      <td>324.99</td>\n",
       "    </tr>\n",
       "    <tr>\n",
       "      <th>10</th>\n",
       "      <td>Churn</td>\n",
       "      <td>int64</td>\n",
       "      <td>0</td>\n",
       "      <td>0.0</td>\n",
       "      <td>2</td>\n",
       "      <td>[1, 0]</td>\n",
       "      <td>0</td>\n",
       "      <td>1</td>\n",
       "    </tr>\n",
       "  </tbody>\n",
       "</table>\n",
       "</div>"
      ],
      "text/plain": [
       "                      Column Data Type  Missing Value  Pct Missing Value  \\\n",
       "0                     Tenure   float64              0                0.0   \n",
       "1            WarehouseToHome   float64              0                0.0   \n",
       "2   NumberOfDeviceRegistered     int64              0                0.0   \n",
       "3           PreferedOrderCat    object              0                0.0   \n",
       "4          SatisfactionScore     int64              0                0.0   \n",
       "5              MaritalStatus    object              0                0.0   \n",
       "6            NumberOfAddress     int64              0                0.0   \n",
       "7                   Complain     int64              0                0.0   \n",
       "8          DaySinceLastOrder   float64              0                0.0   \n",
       "9             CashbackAmount   float64              0                0.0   \n",
       "10                     Churn     int64              0                0.0   \n",
       "\n",
       "    Num Unique                  Unique Sample   Min Val Max val  \n",
       "0           34                   [28.0, 51.0]       0.0    51.0  \n",
       "1           32                   [14.0, 18.0]       5.0    36.0  \n",
       "2            6                         [1, 6]         1       6  \n",
       "3            6  [Laptop & Accessory, Fashion]   Fashion  Others  \n",
       "4            5                         [2, 4]         1       5  \n",
       "5            3              [Single, Married]  Divorced  Single  \n",
       "6           11                         [9, 2]         1      11  \n",
       "7            2                         [1, 0]         0       1  \n",
       "8           19                   [12.0, 15.0]       0.0    18.0  \n",
       "9         2332               [127.56, 139.78]       0.0  324.99  \n",
       "10           2                         [1, 0]         0       1  "
      ]
     },
     "execution_count": 38,
     "metadata": {},
     "output_type": "execute_result"
    }
   ],
   "source": [
    "# Columns Description\n",
    "\n",
    "dataDesc()"
   ]
  },
  {
   "cell_type": "markdown",
   "metadata": {},
   "source": [
    "From this latest update to dataframe we can see the data is all filled. We alse can get information that there are two categorical columns ('PreferedOrderCat' & 'MaritalStatus'), these columns will be encoded to numercal. The rest of features ('Tenure', 'WarehouseToHome', 'NumberOfDeviceRegistered', 'SatisfactionScore', 'NumberOfAddress', 'DaySinceLastOrder', 'CashbackAmount') excepet 'Complain', will be scaled to get the numerical value prportionally. "
   ]
  },
  {
   "cell_type": "markdown",
   "metadata": {},
   "source": [
    "Encode:\n",
    "- Binary Encoder:\n",
    "    - 'PreferedOrderCat'\n",
    "- One Hot Encoder:\n",
    "    - 'MaritalStatus'<br>\n",
    "\n",
    "Scale:\n",
    "- Robust Scaler:\n",
    "    - 'Tenure', 'WarehouseToHome', 'NumberOfDeviceRegistered', 'SatisfactionScore', 'NumberOfAddress', 'DaySinceLastOrder', 'CashbackAmount'\n",
    "\n",
    "We consider tu use Binary Encoder for 'PreferedOrderCat' due to this column has more than 5 category, and we can use One Hot Encoder for 'MaritalStatus' due to this column only contains 3 category. For Scaler we can use Robust Scaler because the data is not normally distributed."
   ]
  },
  {
   "cell_type": "markdown",
   "metadata": {},
   "source": [
    "### *`Train Test Set`*"
   ]
  },
  {
   "cell_type": "code",
   "execution_count": 39,
   "metadata": {},
   "outputs": [],
   "source": [
    "# Define X and y\n",
    "\n",
    "X = df.drop(columns=['Churn'])\n",
    "y = df['Churn']"
   ]
  },
  {
   "cell_type": "code",
   "execution_count": 40,
   "metadata": {},
   "outputs": [],
   "source": [
    "# Split\n",
    "\n",
    "xTrain, xTest, yTrain, yTest = train_test_split(X,\n",
    "                                                y,\n",
    "                                                test_size=0.2,\n",
    "                                                random_state=20,\n",
    "                                                stratify=y)"
   ]
  },
  {
   "cell_type": "markdown",
   "metadata": {},
   "source": [
    "In this step we define variable X as a features and y as a response / target. For the splitting process we set the test size at 20% and also need to set stratify=y to ensures that the splitting process maintains the proportion of different classes in the target variable."
   ]
  },
  {
   "cell_type": "code",
   "execution_count": 41,
   "metadata": {},
   "outputs": [
    {
     "data": {
      "text/html": [
       "<style>#sk-container-id-1 {color: black;background-color: white;}#sk-container-id-1 pre{padding: 0;}#sk-container-id-1 div.sk-toggleable {background-color: white;}#sk-container-id-1 label.sk-toggleable__label {cursor: pointer;display: block;width: 100%;margin-bottom: 0;padding: 0.3em;box-sizing: border-box;text-align: center;}#sk-container-id-1 label.sk-toggleable__label-arrow:before {content: \"▸\";float: left;margin-right: 0.25em;color: #696969;}#sk-container-id-1 label.sk-toggleable__label-arrow:hover:before {color: black;}#sk-container-id-1 div.sk-estimator:hover label.sk-toggleable__label-arrow:before {color: black;}#sk-container-id-1 div.sk-toggleable__content {max-height: 0;max-width: 0;overflow: hidden;text-align: left;background-color: #f0f8ff;}#sk-container-id-1 div.sk-toggleable__content pre {margin: 0.2em;color: black;border-radius: 0.25em;background-color: #f0f8ff;}#sk-container-id-1 input.sk-toggleable__control:checked~div.sk-toggleable__content {max-height: 200px;max-width: 100%;overflow: auto;}#sk-container-id-1 input.sk-toggleable__control:checked~label.sk-toggleable__label-arrow:before {content: \"▾\";}#sk-container-id-1 div.sk-estimator input.sk-toggleable__control:checked~label.sk-toggleable__label {background-color: #d4ebff;}#sk-container-id-1 div.sk-label input.sk-toggleable__control:checked~label.sk-toggleable__label {background-color: #d4ebff;}#sk-container-id-1 input.sk-hidden--visually {border: 0;clip: rect(1px 1px 1px 1px);clip: rect(1px, 1px, 1px, 1px);height: 1px;margin: -1px;overflow: hidden;padding: 0;position: absolute;width: 1px;}#sk-container-id-1 div.sk-estimator {font-family: monospace;background-color: #f0f8ff;border: 1px dotted black;border-radius: 0.25em;box-sizing: border-box;margin-bottom: 0.5em;}#sk-container-id-1 div.sk-estimator:hover {background-color: #d4ebff;}#sk-container-id-1 div.sk-parallel-item::after {content: \"\";width: 100%;border-bottom: 1px solid gray;flex-grow: 1;}#sk-container-id-1 div.sk-label:hover label.sk-toggleable__label {background-color: #d4ebff;}#sk-container-id-1 div.sk-serial::before {content: \"\";position: absolute;border-left: 1px solid gray;box-sizing: border-box;top: 0;bottom: 0;left: 50%;z-index: 0;}#sk-container-id-1 div.sk-serial {display: flex;flex-direction: column;align-items: center;background-color: white;padding-right: 0.2em;padding-left: 0.2em;position: relative;}#sk-container-id-1 div.sk-item {position: relative;z-index: 1;}#sk-container-id-1 div.sk-parallel {display: flex;align-items: stretch;justify-content: center;background-color: white;position: relative;}#sk-container-id-1 div.sk-item::before, #sk-container-id-1 div.sk-parallel-item::before {content: \"\";position: absolute;border-left: 1px solid gray;box-sizing: border-box;top: 0;bottom: 0;left: 50%;z-index: -1;}#sk-container-id-1 div.sk-parallel-item {display: flex;flex-direction: column;z-index: 1;position: relative;background-color: white;}#sk-container-id-1 div.sk-parallel-item:first-child::after {align-self: flex-end;width: 50%;}#sk-container-id-1 div.sk-parallel-item:last-child::after {align-self: flex-start;width: 50%;}#sk-container-id-1 div.sk-parallel-item:only-child::after {width: 0;}#sk-container-id-1 div.sk-dashed-wrapped {border: 1px dashed gray;margin: 0 0.4em 0.5em 0.4em;box-sizing: border-box;padding-bottom: 0.4em;background-color: white;}#sk-container-id-1 div.sk-label label {font-family: monospace;font-weight: bold;display: inline-block;line-height: 1.2em;}#sk-container-id-1 div.sk-label-container {text-align: center;}#sk-container-id-1 div.sk-container {/* jupyter's `normalize.less` sets `[hidden] { display: none; }` but bootstrap.min.css set `[hidden] { display: none !important; }` so we also need the `!important` here to be able to override the default hidden behavior on the sphinx rendered scikit-learn.org. See: https://github.com/scikit-learn/scikit-learn/issues/21755 */display: inline-block !important;position: relative;}#sk-container-id-1 div.sk-text-repr-fallback {display: none;}</style><div id=\"sk-container-id-1\" class=\"sk-top-container\"><div class=\"sk-text-repr-fallback\"><pre>ColumnTransformer(remainder=&#x27;passthrough&#x27;,\n",
       "                  transformers=[(&#x27;onehot&#x27;, OneHotEncoder(drop=&#x27;first&#x27;),\n",
       "                                 [&#x27;MaritalStatus&#x27;]),\n",
       "                                (&#x27;binary&#x27;, BinaryEncoder(),\n",
       "                                 [&#x27;PreferedOrderCat&#x27;]),\n",
       "                                (&#x27;robust&#x27;, RobustScaler(),\n",
       "                                 [&#x27;Tenure&#x27;, &#x27;WarehouseToHome&#x27;,\n",
       "                                  &#x27;NumberOfDeviceRegistered&#x27;,\n",
       "                                  &#x27;SatisfactionScore&#x27;, &#x27;NumberOfAddress&#x27;,\n",
       "                                  &#x27;DaySinceLastOrder&#x27;, &#x27;CashbackAmount&#x27;])])</pre><b>In a Jupyter environment, please rerun this cell to show the HTML representation or trust the notebook. <br />On GitHub, the HTML representation is unable to render, please try loading this page with nbviewer.org.</b></div><div class=\"sk-container\" hidden><div class=\"sk-item sk-dashed-wrapped\"><div class=\"sk-label-container\"><div class=\"sk-label sk-toggleable\"><input class=\"sk-toggleable__control sk-hidden--visually\" id=\"sk-estimator-id-1\" type=\"checkbox\" ><label for=\"sk-estimator-id-1\" class=\"sk-toggleable__label sk-toggleable__label-arrow\">ColumnTransformer</label><div class=\"sk-toggleable__content\"><pre>ColumnTransformer(remainder=&#x27;passthrough&#x27;,\n",
       "                  transformers=[(&#x27;onehot&#x27;, OneHotEncoder(drop=&#x27;first&#x27;),\n",
       "                                 [&#x27;MaritalStatus&#x27;]),\n",
       "                                (&#x27;binary&#x27;, BinaryEncoder(),\n",
       "                                 [&#x27;PreferedOrderCat&#x27;]),\n",
       "                                (&#x27;robust&#x27;, RobustScaler(),\n",
       "                                 [&#x27;Tenure&#x27;, &#x27;WarehouseToHome&#x27;,\n",
       "                                  &#x27;NumberOfDeviceRegistered&#x27;,\n",
       "                                  &#x27;SatisfactionScore&#x27;, &#x27;NumberOfAddress&#x27;,\n",
       "                                  &#x27;DaySinceLastOrder&#x27;, &#x27;CashbackAmount&#x27;])])</pre></div></div></div><div class=\"sk-parallel\"><div class=\"sk-parallel-item\"><div class=\"sk-item\"><div class=\"sk-label-container\"><div class=\"sk-label sk-toggleable\"><input class=\"sk-toggleable__control sk-hidden--visually\" id=\"sk-estimator-id-2\" type=\"checkbox\" ><label for=\"sk-estimator-id-2\" class=\"sk-toggleable__label sk-toggleable__label-arrow\">onehot</label><div class=\"sk-toggleable__content\"><pre>[&#x27;MaritalStatus&#x27;]</pre></div></div></div><div class=\"sk-serial\"><div class=\"sk-item\"><div class=\"sk-estimator sk-toggleable\"><input class=\"sk-toggleable__control sk-hidden--visually\" id=\"sk-estimator-id-3\" type=\"checkbox\" ><label for=\"sk-estimator-id-3\" class=\"sk-toggleable__label sk-toggleable__label-arrow\">OneHotEncoder</label><div class=\"sk-toggleable__content\"><pre>OneHotEncoder(drop=&#x27;first&#x27;)</pre></div></div></div></div></div></div><div class=\"sk-parallel-item\"><div class=\"sk-item\"><div class=\"sk-label-container\"><div class=\"sk-label sk-toggleable\"><input class=\"sk-toggleable__control sk-hidden--visually\" id=\"sk-estimator-id-4\" type=\"checkbox\" ><label for=\"sk-estimator-id-4\" class=\"sk-toggleable__label sk-toggleable__label-arrow\">binary</label><div class=\"sk-toggleable__content\"><pre>[&#x27;PreferedOrderCat&#x27;]</pre></div></div></div><div class=\"sk-serial\"><div class=\"sk-item\"><div class=\"sk-estimator sk-toggleable\"><input class=\"sk-toggleable__control sk-hidden--visually\" id=\"sk-estimator-id-5\" type=\"checkbox\" ><label for=\"sk-estimator-id-5\" class=\"sk-toggleable__label sk-toggleable__label-arrow\">BinaryEncoder</label><div class=\"sk-toggleable__content\"><pre>BinaryEncoder()</pre></div></div></div></div></div></div><div class=\"sk-parallel-item\"><div class=\"sk-item\"><div class=\"sk-label-container\"><div class=\"sk-label sk-toggleable\"><input class=\"sk-toggleable__control sk-hidden--visually\" id=\"sk-estimator-id-6\" type=\"checkbox\" ><label for=\"sk-estimator-id-6\" class=\"sk-toggleable__label sk-toggleable__label-arrow\">robust</label><div class=\"sk-toggleable__content\"><pre>[&#x27;Tenure&#x27;, &#x27;WarehouseToHome&#x27;, &#x27;NumberOfDeviceRegistered&#x27;, &#x27;SatisfactionScore&#x27;, &#x27;NumberOfAddress&#x27;, &#x27;DaySinceLastOrder&#x27;, &#x27;CashbackAmount&#x27;]</pre></div></div></div><div class=\"sk-serial\"><div class=\"sk-item\"><div class=\"sk-estimator sk-toggleable\"><input class=\"sk-toggleable__control sk-hidden--visually\" id=\"sk-estimator-id-7\" type=\"checkbox\" ><label for=\"sk-estimator-id-7\" class=\"sk-toggleable__label sk-toggleable__label-arrow\">RobustScaler</label><div class=\"sk-toggleable__content\"><pre>RobustScaler()</pre></div></div></div></div></div></div><div class=\"sk-parallel-item\"><div class=\"sk-item\"><div class=\"sk-label-container\"><div class=\"sk-label sk-toggleable\"><input class=\"sk-toggleable__control sk-hidden--visually\" id=\"sk-estimator-id-8\" type=\"checkbox\" ><label for=\"sk-estimator-id-8\" class=\"sk-toggleable__label sk-toggleable__label-arrow\">remainder</label><div class=\"sk-toggleable__content\"><pre></pre></div></div></div><div class=\"sk-serial\"><div class=\"sk-item\"><div class=\"sk-estimator sk-toggleable\"><input class=\"sk-toggleable__control sk-hidden--visually\" id=\"sk-estimator-id-9\" type=\"checkbox\" ><label for=\"sk-estimator-id-9\" class=\"sk-toggleable__label sk-toggleable__label-arrow\">passthrough</label><div class=\"sk-toggleable__content\"><pre>passthrough</pre></div></div></div></div></div></div></div></div></div></div>"
      ],
      "text/plain": [
       "ColumnTransformer(remainder='passthrough',\n",
       "                  transformers=[('onehot', OneHotEncoder(drop='first'),\n",
       "                                 ['MaritalStatus']),\n",
       "                                ('binary', BinaryEncoder(),\n",
       "                                 ['PreferedOrderCat']),\n",
       "                                ('robust', RobustScaler(),\n",
       "                                 ['Tenure', 'WarehouseToHome',\n",
       "                                  'NumberOfDeviceRegistered',\n",
       "                                  'SatisfactionScore', 'NumberOfAddress',\n",
       "                                  'DaySinceLastOrder', 'CashbackAmount'])])"
      ]
     },
     "execution_count": 41,
     "metadata": {},
     "output_type": "execute_result"
    }
   ],
   "source": [
    "# transformer \n",
    "\n",
    "transformer = ColumnTransformer([\n",
    "    ('onehot', OneHotEncoder(drop='first'),['MaritalStatus']),\n",
    "    ('binary', BinaryEncoder(),['PreferedOrderCat']),\n",
    "    ('robust', RobustScaler(), ['Tenure','WarehouseToHome','NumberOfDeviceRegistered','SatisfactionScore','NumberOfAddress','DaySinceLastOrder','CashbackAmount'])\n",
    "], remainder='passthrough')\n",
    "\n",
    "transformer"
   ]
  },
  {
   "cell_type": "markdown",
   "metadata": {},
   "source": [
    "The code above is to transform the encoding and scaling process to the features, we also need to put remainder 'passthrough' to still involve the other column without any encoding or scaling"
   ]
  },
  {
   "cell_type": "code",
   "execution_count": 42,
   "metadata": {},
   "outputs": [
    {
     "data": {
      "text/html": [
       "<div>\n",
       "<style scoped>\n",
       "    .dataframe tbody tr th:only-of-type {\n",
       "        vertical-align: middle;\n",
       "    }\n",
       "\n",
       "    .dataframe tbody tr th {\n",
       "        vertical-align: top;\n",
       "    }\n",
       "\n",
       "    .dataframe thead th {\n",
       "        text-align: right;\n",
       "    }\n",
       "</style>\n",
       "<table border=\"1\" class=\"dataframe\">\n",
       "  <thead>\n",
       "    <tr style=\"text-align: right;\">\n",
       "      <th></th>\n",
       "      <th>onehot__MaritalStatus_Married</th>\n",
       "      <th>onehot__MaritalStatus_Single</th>\n",
       "      <th>binary__PreferedOrderCat_0</th>\n",
       "      <th>binary__PreferedOrderCat_1</th>\n",
       "      <th>binary__PreferedOrderCat_2</th>\n",
       "      <th>robust__Tenure</th>\n",
       "      <th>robust__WarehouseToHome</th>\n",
       "      <th>robust__NumberOfDeviceRegistered</th>\n",
       "      <th>robust__SatisfactionScore</th>\n",
       "      <th>robust__NumberOfAddress</th>\n",
       "      <th>robust__DaySinceLastOrder</th>\n",
       "      <th>robust__CashbackAmount</th>\n",
       "      <th>remainder__Complain</th>\n",
       "    </tr>\n",
       "  </thead>\n",
       "  <tbody>\n",
       "    <tr>\n",
       "      <th>0</th>\n",
       "      <td>1.0</td>\n",
       "      <td>0.0</td>\n",
       "      <td>0.0</td>\n",
       "      <td>0.0</td>\n",
       "      <td>1.0</td>\n",
       "      <td>0.333333</td>\n",
       "      <td>-0.3</td>\n",
       "      <td>1.0</td>\n",
       "      <td>0.0</td>\n",
       "      <td>-0.25</td>\n",
       "      <td>0.666667</td>\n",
       "      <td>-0.160090</td>\n",
       "      <td>0.0</td>\n",
       "    </tr>\n",
       "    <tr>\n",
       "      <th>1</th>\n",
       "      <td>1.0</td>\n",
       "      <td>0.0</td>\n",
       "      <td>0.0</td>\n",
       "      <td>1.0</td>\n",
       "      <td>0.0</td>\n",
       "      <td>-0.666667</td>\n",
       "      <td>-0.6</td>\n",
       "      <td>0.0</td>\n",
       "      <td>-1.0</td>\n",
       "      <td>2.00</td>\n",
       "      <td>-0.166667</td>\n",
       "      <td>0.175523</td>\n",
       "      <td>1.0</td>\n",
       "    </tr>\n",
       "    <tr>\n",
       "      <th>2</th>\n",
       "      <td>0.0</td>\n",
       "      <td>1.0</td>\n",
       "      <td>0.0</td>\n",
       "      <td>0.0</td>\n",
       "      <td>1.0</td>\n",
       "      <td>0.166667</td>\n",
       "      <td>-0.4</td>\n",
       "      <td>-1.0</td>\n",
       "      <td>-1.0</td>\n",
       "      <td>1.50</td>\n",
       "      <td>-0.666667</td>\n",
       "      <td>0.092303</td>\n",
       "      <td>1.0</td>\n",
       "    </tr>\n",
       "    <tr>\n",
       "      <th>3</th>\n",
       "      <td>1.0</td>\n",
       "      <td>0.0</td>\n",
       "      <td>0.0</td>\n",
       "      <td>1.0</td>\n",
       "      <td>0.0</td>\n",
       "      <td>-0.583333</td>\n",
       "      <td>-0.3</td>\n",
       "      <td>0.0</td>\n",
       "      <td>0.5</td>\n",
       "      <td>0.00</td>\n",
       "      <td>-0.500000</td>\n",
       "      <td>-0.201700</td>\n",
       "      <td>0.0</td>\n",
       "    </tr>\n",
       "    <tr>\n",
       "      <th>4</th>\n",
       "      <td>1.0</td>\n",
       "      <td>0.0</td>\n",
       "      <td>0.0</td>\n",
       "      <td>1.0</td>\n",
       "      <td>1.0</td>\n",
       "      <td>0.166667</td>\n",
       "      <td>-0.4</td>\n",
       "      <td>-1.0</td>\n",
       "      <td>0.0</td>\n",
       "      <td>0.00</td>\n",
       "      <td>0.500000</td>\n",
       "      <td>-0.729342</td>\n",
       "      <td>1.0</td>\n",
       "    </tr>\n",
       "  </tbody>\n",
       "</table>\n",
       "</div>"
      ],
      "text/plain": [
       "   onehot__MaritalStatus_Married  onehot__MaritalStatus_Single  \\\n",
       "0                            1.0                           0.0   \n",
       "1                            1.0                           0.0   \n",
       "2                            0.0                           1.0   \n",
       "3                            1.0                           0.0   \n",
       "4                            1.0                           0.0   \n",
       "\n",
       "   binary__PreferedOrderCat_0  binary__PreferedOrderCat_1  \\\n",
       "0                         0.0                         0.0   \n",
       "1                         0.0                         1.0   \n",
       "2                         0.0                         0.0   \n",
       "3                         0.0                         1.0   \n",
       "4                         0.0                         1.0   \n",
       "\n",
       "   binary__PreferedOrderCat_2  robust__Tenure  robust__WarehouseToHome  \\\n",
       "0                         1.0        0.333333                     -0.3   \n",
       "1                         0.0       -0.666667                     -0.6   \n",
       "2                         1.0        0.166667                     -0.4   \n",
       "3                         0.0       -0.583333                     -0.3   \n",
       "4                         1.0        0.166667                     -0.4   \n",
       "\n",
       "   robust__NumberOfDeviceRegistered  robust__SatisfactionScore  \\\n",
       "0                               1.0                        0.0   \n",
       "1                               0.0                       -1.0   \n",
       "2                              -1.0                       -1.0   \n",
       "3                               0.0                        0.5   \n",
       "4                              -1.0                        0.0   \n",
       "\n",
       "   robust__NumberOfAddress  robust__DaySinceLastOrder  robust__CashbackAmount  \\\n",
       "0                    -0.25                   0.666667               -0.160090   \n",
       "1                     2.00                  -0.166667                0.175523   \n",
       "2                     1.50                  -0.666667                0.092303   \n",
       "3                     0.00                  -0.500000               -0.201700   \n",
       "4                     0.00                   0.500000               -0.729342   \n",
       "\n",
       "   remainder__Complain  \n",
       "0                  0.0  \n",
       "1                  1.0  \n",
       "2                  1.0  \n",
       "3                  0.0  \n",
       "4                  1.0  "
      ]
     },
     "execution_count": 42,
     "metadata": {},
     "output_type": "execute_result"
    }
   ],
   "source": [
    "dfTransformed = pd.DataFrame(transformer.fit_transform(xTrain),columns=transformer.get_feature_names_out())\n",
    "dfTransformed.head()"
   ]
  },
  {
   "cell_type": "markdown",
   "metadata": {},
   "source": [
    "From the dataframe above we can see the final preprocessed data"
   ]
  },
  {
   "cell_type": "markdown",
   "metadata": {},
   "source": [
    "# **Model Benchmarking**"
   ]
  },
  {
   "cell_type": "markdown",
   "metadata": {},
   "source": [
    "Models that we will test are 7 models with default paramater and set all in the same random_state = 20"
   ]
  },
  {
   "cell_type": "code",
   "execution_count": 43,
   "metadata": {},
   "outputs": [],
   "source": [
    "# Models\n",
    "\n",
    "logReg = LogisticRegression(random_state=20)\n",
    "knn = KNeighborsClassifier()\n",
    "dt = DecisionTreeClassifier(random_state=20)\n",
    "rf = RandomForestClassifier(random_state=20)\n",
    "xgb = XGBClassifier(random_state=20, use_label_encoder=False,)\n",
    "lgbm = lgb.LGBMClassifier(random_state=20)\n",
    "svc = SVC(random_state=20)"
   ]
  },
  {
   "cell_type": "code",
   "execution_count": 44,
   "metadata": {},
   "outputs": [
    {
     "data": {
      "text/html": [
       "<div>\n",
       "<style scoped>\n",
       "    .dataframe tbody tr th:only-of-type {\n",
       "        vertical-align: middle;\n",
       "    }\n",
       "\n",
       "    .dataframe tbody tr th {\n",
       "        vertical-align: top;\n",
       "    }\n",
       "\n",
       "    .dataframe thead th {\n",
       "        text-align: right;\n",
       "    }\n",
       "</style>\n",
       "<table border=\"1\" class=\"dataframe\">\n",
       "  <thead>\n",
       "    <tr style=\"text-align: right;\">\n",
       "      <th></th>\n",
       "      <th>mean recall</th>\n",
       "      <th>sdev</th>\n",
       "    </tr>\n",
       "    <tr>\n",
       "      <th>model</th>\n",
       "      <th></th>\n",
       "      <th></th>\n",
       "    </tr>\n",
       "  </thead>\n",
       "  <tbody>\n",
       "    <tr>\n",
       "      <th>LightGBM</th>\n",
       "      <td>0.663529</td>\n",
       "      <td>0.024225</td>\n",
       "    </tr>\n",
       "    <tr>\n",
       "      <th>XGBoost</th>\n",
       "      <td>0.661176</td>\n",
       "      <td>0.025123</td>\n",
       "    </tr>\n",
       "    <tr>\n",
       "      <th>Decision Tree</th>\n",
       "      <td>0.642353</td>\n",
       "      <td>0.053964</td>\n",
       "    </tr>\n",
       "    <tr>\n",
       "      <th>Random Forest</th>\n",
       "      <td>0.595294</td>\n",
       "      <td>0.050245</td>\n",
       "    </tr>\n",
       "    <tr>\n",
       "      <th>Logistic Regression</th>\n",
       "      <td>0.468235</td>\n",
       "      <td>0.064610</td>\n",
       "    </tr>\n",
       "    <tr>\n",
       "      <th>SVC</th>\n",
       "      <td>0.414118</td>\n",
       "      <td>0.056861</td>\n",
       "    </tr>\n",
       "    <tr>\n",
       "      <th>KNN</th>\n",
       "      <td>0.362353</td>\n",
       "      <td>0.061086</td>\n",
       "    </tr>\n",
       "  </tbody>\n",
       "</table>\n",
       "</div>"
      ],
      "text/plain": [
       "                     mean recall      sdev\n",
       "model                                     \n",
       "LightGBM                0.663529  0.024225\n",
       "XGBoost                 0.661176  0.025123\n",
       "Decision Tree           0.642353  0.053964\n",
       "Random Forest           0.595294  0.050245\n",
       "Logistic Regression     0.468235  0.064610\n",
       "SVC                     0.414118  0.056861\n",
       "KNN                     0.362353  0.061086"
      ]
     },
     "execution_count": 44,
     "metadata": {},
     "output_type": "execute_result"
    }
   ],
   "source": [
    "# Cross Validation\n",
    "\n",
    "models = [logReg,knn,dt,rf,xgb,lgbm,svc]\n",
    "meanCV=[]\n",
    "stdCV=[]\n",
    "\n",
    "for i in models:\n",
    "    skfold=StratifiedKFold(n_splits=5)\n",
    "    estimator=Pipeline([\n",
    "        ('preprocess',transformer),\n",
    "        ('model',i)])\n",
    "    modelCV=cross_val_score(estimator,xTrain,yTrain,cv=skfold,scoring='recall')\n",
    "    meanCV.append(modelCV.mean())\n",
    "    stdCV.append(modelCV.std())\n",
    "    \n",
    "pd.DataFrame({'model':['Logistic Regression', 'KNN', 'Decision Tree', 'Random Forest', 'XGBoost', 'LightGBM', 'SVC'],'mean recall':meanCV,'sdev':stdCV}).set_index('model').sort_values(by='mean recall',ascending=False)"
   ]
  },
  {
   "cell_type": "markdown",
   "metadata": {},
   "source": [
    "Form the initial cross validation test we find that the LightGBM is the best model but the recall score is quite low at **0.663**, from this condition we consider to do a treatment for imbalance data in the next step"
   ]
  },
  {
   "cell_type": "markdown",
   "metadata": {},
   "source": [
    "# **Imbalance Treatment**"
   ]
  },
  {
   "cell_type": "markdown",
   "metadata": {},
   "source": [
    "This stages required due to the minority negative class proportion is imbalance compare to the positive. We will approach this Imbalance dataset using SMOTE methods. SMOTE is an effective method for addressing class imbalance in machine learning datasets. By oversampling the minority class, it helps balance the class distribution, improves the learning and generalization of the model, reduces the risk of misclassification, and provides more reliable evaluation metrics."
   ]
  },
  {
   "cell_type": "code",
   "execution_count": 45,
   "metadata": {},
   "outputs": [
    {
     "data": {
      "text/html": [
       "<div>\n",
       "<style scoped>\n",
       "    .dataframe tbody tr th:only-of-type {\n",
       "        vertical-align: middle;\n",
       "    }\n",
       "\n",
       "    .dataframe tbody tr th {\n",
       "        vertical-align: top;\n",
       "    }\n",
       "\n",
       "    .dataframe thead th {\n",
       "        text-align: right;\n",
       "    }\n",
       "</style>\n",
       "<table border=\"1\" class=\"dataframe\">\n",
       "  <thead>\n",
       "    <tr style=\"text-align: right;\">\n",
       "      <th></th>\n",
       "      <th>mean recall</th>\n",
       "      <th>sdev</th>\n",
       "    </tr>\n",
       "    <tr>\n",
       "      <th>model</th>\n",
       "      <th></th>\n",
       "      <th></th>\n",
       "    </tr>\n",
       "  </thead>\n",
       "  <tbody>\n",
       "    <tr>\n",
       "      <th>Logistic Regression</th>\n",
       "      <td>0.797647</td>\n",
       "      <td>0.034421</td>\n",
       "    </tr>\n",
       "    <tr>\n",
       "      <th>SVC</th>\n",
       "      <td>0.788235</td>\n",
       "      <td>0.031568</td>\n",
       "    </tr>\n",
       "    <tr>\n",
       "      <th>KNN</th>\n",
       "      <td>0.752941</td>\n",
       "      <td>0.019686</td>\n",
       "    </tr>\n",
       "    <tr>\n",
       "      <th>XGBoost</th>\n",
       "      <td>0.705882</td>\n",
       "      <td>0.019686</td>\n",
       "    </tr>\n",
       "    <tr>\n",
       "      <th>Random Forest</th>\n",
       "      <td>0.689412</td>\n",
       "      <td>0.015958</td>\n",
       "    </tr>\n",
       "    <tr>\n",
       "      <th>LightGBM</th>\n",
       "      <td>0.684706</td>\n",
       "      <td>0.032773</td>\n",
       "    </tr>\n",
       "    <tr>\n",
       "      <th>Decision Tree</th>\n",
       "      <td>0.668235</td>\n",
       "      <td>0.038231</td>\n",
       "    </tr>\n",
       "  </tbody>\n",
       "</table>\n",
       "</div>"
      ],
      "text/plain": [
       "                     mean recall      sdev\n",
       "model                                     \n",
       "Logistic Regression     0.797647  0.034421\n",
       "SVC                     0.788235  0.031568\n",
       "KNN                     0.752941  0.019686\n",
       "XGBoost                 0.705882  0.019686\n",
       "Random Forest           0.689412  0.015958\n",
       "LightGBM                0.684706  0.032773\n",
       "Decision Tree           0.668235  0.038231"
      ]
     },
     "execution_count": 45,
     "metadata": {},
     "output_type": "execute_result"
    }
   ],
   "source": [
    "models = [logReg,knn,dt,rf,xgb,lgbm,svc]\n",
    "meanIMB=[]\n",
    "stdIMB=[]\n",
    "\n",
    "# Loop models for Imbalance Treatment\n",
    "for i in models:\n",
    "    skfold=StratifiedKFold(n_splits=5)\n",
    "    estimator=Pipeline([\n",
    "        ('preprocess',transformer),\n",
    "        ('smote', SMOTE(random_state=20)),\n",
    "        ('model',i)])\n",
    "    modelCvIMB=cross_val_score(estimator,xTrain,yTrain,cv=skfold,scoring='recall')\n",
    "    meanIMB.append(modelCvIMB.mean())\n",
    "    stdIMB.append(modelCvIMB.std())\n",
    "    \n",
    "pd.DataFrame({'model':['Logistic Regression', 'KNN', 'Decision Tree', 'Random Forest', 'XGBoost', 'LightGBM', 'SVC'],'mean recall':meanIMB,'sdev':stdIMB}).set_index('model').sort_values(by='mean recall',ascending=False)\n"
   ]
  },
  {
   "cell_type": "markdown",
   "metadata": {},
   "source": [
    "The result of imbalance treatment quite effective to get a better recall score, we can also find that the best scoring model has changed to Logistic Regression with **0.798** and the second best is SVC with **0.788**.<br>\n",
    "With this result we will try to do Hyperparameter Tuning for **`Logistic Regression`** and **`SVC`** model."
   ]
  },
  {
   "cell_type": "markdown",
   "metadata": {},
   "source": [
    "# **Hyperparameter Tuning: Logistic Regression**"
   ]
  },
  {
   "cell_type": "markdown",
   "metadata": {},
   "source": [
    "Hyperparameter tuning needed to improve recall score by matching parameters and get best combination of parameters. The method we will try to use is Grid Search, Grid search performs an exhaustive search over a specified parameter grid, trying out all possible combinations of hyperparameters. This ensures that no combination is missed, and the search space is thoroughly explored. It helps in finding the best hyperparameter values for the given problem."
   ]
  },
  {
   "cell_type": "markdown",
   "metadata": {},
   "source": [
    "The first model that we will put into a tuning is Logistic Regression, we gather all common parameters possible to generate the best combination.<br><br>\n",
    "**Paramaters**:\n",
    "- penalty\n",
    "- C\n",
    "- solver\n",
    "- max_iter"
   ]
  },
  {
   "cell_type": "code",
   "execution_count": 58,
   "metadata": {},
   "outputs": [
    {
     "name": "stdout",
     "output_type": "stream",
     "text": [
      "Fitting 5 folds for each of 320 candidates, totalling 1600 fits\n",
      "Best parameters: {'model__C': 0.1, 'model__max_iter': 100, 'model__penalty': 'l1', 'model__solver': 'liblinear'}\n"
     ]
    }
   ],
   "source": [
    "# Pipeline\n",
    "pipelineTLR = Pipeline([\n",
    "    ('preprocess', transformer),\n",
    "    ('smote', SMOTE(random_state=20)),\n",
    "    ('model', logReg)])\n",
    "\n",
    "# Define Hyperparameters for LogReg\n",
    "hyperparametersLogReg = {\n",
    "    'model__penalty': ['l1', 'l2', 'elasticnet', 'none'],\n",
    "    'model__C': [0.1, 1, 10, 100],\n",
    "    'model__solver': ['newton-cg', 'lbfgs', 'liblinear', 'sag', 'saga'],\n",
    "    'model__max_iter': [100, 1000, 5000, 10000]}\n",
    "\n",
    "# Create GridSearchCV\n",
    "gridLR = GridSearchCV(pipelineTLR, hyperparametersLogReg, cv=5, scoring='recall', verbose=1)\n",
    "\n",
    "# Fit to Train data\n",
    "gridLR.fit(xTrain, yTrain)\n",
    "\n",
    "# Get the best parameters\n",
    "bestParamsLR = gridLR.best_params_\n",
    "bestModelLR = gridLR.best_estimator_\n",
    "\n",
    "print(f\"Best parameters: {bestParamsLR}\")"
   ]
  },
  {
   "cell_type": "markdown",
   "metadata": {},
   "source": [
    "Hyperparameter Tuning result for Logistic Regression suggesting to use these parameters.<br><br>\n",
    "**Best Paramaters**:\n",
    "- penalty : `'l1'`\n",
    "- C : `0.1`\n",
    "- solver : `'liblinear'`\n",
    "- max_iter : `100`\n",
    "\n",
    "We will try to apply all parameters above to the model in the nex step"
   ]
  },
  {
   "cell_type": "markdown",
   "metadata": {},
   "source": [
    "# **Hyperparameter Tuning: SVC**"
   ]
  },
  {
   "cell_type": "markdown",
   "metadata": {},
   "source": [
    "The second model that we will put into a tuning is SVC (Support Vector Classifier), we gather all common parameters possible to generate the best combination.<br><br>\n",
    "**Paramaters**:\n",
    "- C\n",
    "- kernel\n",
    "- gamma\n",
    "- shrinking"
   ]
  },
  {
   "cell_type": "code",
   "execution_count": 59,
   "metadata": {},
   "outputs": [
    {
     "name": "stdout",
     "output_type": "stream",
     "text": [
      "Fitting 5 folds for each of 160 candidates, totalling 800 fits\n"
     ]
    },
    {
     "name": "stdout",
     "output_type": "stream",
     "text": [
      "Best parameters: {'model__C': 0.01, 'model__gamma': 'auto', 'model__kernel': 'poly', 'model__shrinking': True}\n"
     ]
    }
   ],
   "source": [
    "# Pipeline\n",
    "pipelineTSVC = Pipeline([\n",
    "    ('preprocess', transformer),\n",
    "    ('smote', SMOTE(random_state=20)),\n",
    "    ('model', svc)])\n",
    "\n",
    "# Define Hyperparameters for SVC\n",
    "hyperparametersSVC = {\n",
    "    'model__C': np.arange(0.01, 10.01, 1),\n",
    "    'model__kernel': ['linear','poly','rbf','sigmoid'],\n",
    "    'model__gamma': ['auto','scale'],\n",
    "    'model__shrinking': [True,False]}\n",
    "\n",
    "# Create GridSearchCV object\n",
    "gridSVC = GridSearchCV(pipelineTSVC, hyperparametersSVC, cv=5, scoring='recall', verbose=1)\n",
    "\n",
    "# Fit to Train data\n",
    "gridSVC.fit(xTrain, yTrain)\n",
    "\n",
    "# Get the best parameters\n",
    "bestParamsSVC = gridSVC.best_params_\n",
    "bestModelSVC = gridSVC.best_estimator_\n",
    "\n",
    "print(f\"Best parameters: {bestParamsSVC}\")"
   ]
  },
  {
   "cell_type": "markdown",
   "metadata": {},
   "source": [
    "Hyperparameter Tuning result for SVC suggesting to use these parameters.<br><br>\n",
    "**Best Paramaters**:\n",
    "- C : `0.01`\n",
    "- kernel : `'poly'`\n",
    "- gamma : `'auto'`\n",
    "- shrinking : `True`\n",
    "\n",
    "We will try to apply all parameters above to the model in the nex step"
   ]
  },
  {
   "cell_type": "markdown",
   "metadata": {},
   "source": [
    "# **Test After Tuning: LogReg**"
   ]
  },
  {
   "cell_type": "markdown",
   "metadata": {},
   "source": [
    "In this stage we will do a model testing to Train set and Test set using the best LogReg parameters, to be able capturing model versatility and characteristic wheter it's underfitting or overfitting"
   ]
  },
  {
   "cell_type": "code",
   "execution_count": 48,
   "metadata": {},
   "outputs": [
    {
     "data": {
      "text/html": [
       "<div>\n",
       "<style scoped>\n",
       "    .dataframe tbody tr th:only-of-type {\n",
       "        vertical-align: middle;\n",
       "    }\n",
       "\n",
       "    .dataframe tbody tr th {\n",
       "        vertical-align: top;\n",
       "    }\n",
       "\n",
       "    .dataframe thead th {\n",
       "        text-align: right;\n",
       "    }\n",
       "</style>\n",
       "<table border=\"1\" class=\"dataframe\">\n",
       "  <thead>\n",
       "    <tr style=\"text-align: right;\">\n",
       "      <th></th>\n",
       "      <th>Train Recall</th>\n",
       "      <th>Test Recall</th>\n",
       "    </tr>\n",
       "    <tr>\n",
       "      <th>model</th>\n",
       "      <th></th>\n",
       "      <th></th>\n",
       "    </tr>\n",
       "  </thead>\n",
       "  <tbody>\n",
       "    <tr>\n",
       "      <th>Logistic Regression</th>\n",
       "      <td>0.807059</td>\n",
       "      <td>0.831776</td>\n",
       "    </tr>\n",
       "  </tbody>\n",
       "</table>\n",
       "</div>"
      ],
      "text/plain": [
       "                     Train Recall  Test Recall\n",
       "model                                         \n",
       "Logistic Regression      0.807059     0.831776"
      ]
     },
     "execution_count": 48,
     "metadata": {},
     "output_type": "execute_result"
    }
   ],
   "source": [
    "# Set LogReg Params\n",
    "logRegTuning = LogisticRegression(C=0.1, max_iter=100, penalty='l1', solver='liblinear')\n",
    "\n",
    "# Pipeline\n",
    "estimatorTLR=Pipeline([\n",
    "    ('preprocess',transformer),\n",
    "    ('smote', SMOTE(random_state=20)),\n",
    "    ('model',logRegTuning)])\n",
    "\n",
    "# Fit to Train data\n",
    "estimatorTLR.fit(xTrain, yTrain)\n",
    "\n",
    "# LogReg Recall score for Train set\n",
    "trainPredTunnedLR = estimatorTLR.predict(xTrain)\n",
    "trainRecallTunnedLR = recall_score(yTrain, trainPredTunnedLR)\n",
    "\n",
    "# LogReg Recall score for Test set\n",
    "testPredTunnedLR = estimatorTLR.predict(xTest)\n",
    "testRecallTunnedLR = recall_score(yTest, testPredTunnedLR)\n",
    "\n",
    "# Create LogReg Result DF\n",
    "dfResultTunnedLR = pd.DataFrame({\n",
    "    'model': ['Logistic Regression'],\n",
    "    'Train Recall': [trainRecallTunnedLR],\n",
    "    'Test Recall': [testRecallTunnedLR],\n",
    "}).set_index('model')\n",
    "\n",
    "# DF LogReg Tunned\n",
    "pd.DataFrame(dfResultTunnedLR)"
   ]
  },
  {
   "cell_type": "markdown",
   "metadata": {},
   "source": [
    "The result showing that Train and Test recall score is quite near and the score is fairly good at **`0.807 for Train and 0.832 for Test`**, this is a good result but the improvement is not really significat compare to the imbalance treated model testing. Even so, we need to try the second best model tu be tunned in the next step."
   ]
  },
  {
   "cell_type": "markdown",
   "metadata": {},
   "source": [
    "# **Test After Tuning: SVC**"
   ]
  },
  {
   "cell_type": "markdown",
   "metadata": {},
   "source": [
    "In this stage we will do a model testing to Train set and Test set using the best SVC parameters, to be able capturing model versatility and characteristic wheter it's underfitting or overfitting"
   ]
  },
  {
   "cell_type": "code",
   "execution_count": 61,
   "metadata": {},
   "outputs": [
    {
     "data": {
      "text/html": [
       "<div>\n",
       "<style scoped>\n",
       "    .dataframe tbody tr th:only-of-type {\n",
       "        vertical-align: middle;\n",
       "    }\n",
       "\n",
       "    .dataframe tbody tr th {\n",
       "        vertical-align: top;\n",
       "    }\n",
       "\n",
       "    .dataframe thead th {\n",
       "        text-align: right;\n",
       "    }\n",
       "</style>\n",
       "<table border=\"1\" class=\"dataframe\">\n",
       "  <thead>\n",
       "    <tr style=\"text-align: right;\">\n",
       "      <th></th>\n",
       "      <th>Train Recall</th>\n",
       "      <th>Test Recall</th>\n",
       "    </tr>\n",
       "    <tr>\n",
       "      <th>model</th>\n",
       "      <th></th>\n",
       "      <th></th>\n",
       "    </tr>\n",
       "  </thead>\n",
       "  <tbody>\n",
       "    <tr>\n",
       "      <th>SVC</th>\n",
       "      <td>0.981176</td>\n",
       "      <td>0.981308</td>\n",
       "    </tr>\n",
       "  </tbody>\n",
       "</table>\n",
       "</div>"
      ],
      "text/plain": [
       "       Train Recall  Test Recall\n",
       "model                           \n",
       "SVC        0.981176     0.981308"
      ]
     },
     "execution_count": 61,
     "metadata": {},
     "output_type": "execute_result"
    }
   ],
   "source": [
    "# Instantiate logistic regression with the best parameters\n",
    "svcTuning = SVC(C=0.01, gamma= 'auto', kernel= 'poly', shrinking= True)\n",
    "\n",
    "# Pipeline\n",
    "estimatorTSVC=Pipeline([\n",
    "    ('preprocess',transformer),\n",
    "    ('smote', SMOTE(random_state=20)),\n",
    "    ('model', svcTuning)])\n",
    "\n",
    "# Fit to Train data\n",
    "estimatorTSVC.fit(xTrain, yTrain)\n",
    "\n",
    "# SVC Recall score for Train set\n",
    "trainPredTunnedSVC = estimatorTSVC.predict(xTrain)\n",
    "trainRecallTunnedSVC = recall_score(yTrain, trainPredTunnedSVC)\n",
    "\n",
    "# SVC Recall score for Test set\n",
    "testPredTunedSVC = estimatorTSVC.predict(xTest)\n",
    "testRecallTunnedSVC = recall_score(yTest, testPredTunedSVC)\n",
    "\n",
    "# Create SVC Result DF\n",
    "dfResultTunnedSVC = pd.DataFrame({ \n",
    "    'model': ['SVC'],\n",
    "    'Train Recall': [trainRecallTunnedSVC],\n",
    "    'Test Recall': [testRecallTunnedSVC],\n",
    "}).set_index('model')\n",
    "\n",
    "# DF SVC Tunned\n",
    "pd.DataFrame(dfResultTunnedSVC)"
   ]
  },
  {
   "cell_type": "markdown",
   "metadata": {},
   "source": [
    "The result showing that Train and Test recall score is quite near and the score is fairly good at **`0.9811 for Train and 0.9813 for Test`**. Both result are impressive considering the recall score gap is very small just by **0.000132** poin. By this result, we highly consider to pick SVC models and it's all parameters suggested as the best model to predict customer churn in the next other cases."
   ]
  },
  {
   "cell_type": "markdown",
   "metadata": {},
   "source": [
    "# **Confusion Matrix**"
   ]
  },
  {
   "cell_type": "markdown",
   "metadata": {},
   "source": [
    "To retrieve a prove of this tunned SVC model, we can do the calculation on False Negative Rate improvement compare to inital modeling. Using a confusion matix is the proper way to visualize the result and clearly showing the difference between both matrix<br>\n",
    "\n",
    "Confusion matrix default layout:<br>\n",
    "### **[TN , FP]**<br>\n",
    "### **[FN , TP]**<br>\n",
    "\n",
    "- TP : True Positive\n",
    "- TN : True Negative\n",
    "- FP : False Positive\n",
    "- FN : Fals Negative\n",
    "\n",
    "In this cahe we will calculate FN rate using FNR formula: **FN/(TP+FN)**"
   ]
  },
  {
   "cell_type": "code",
   "execution_count": 51,
   "metadata": {},
   "outputs": [],
   "source": [
    "# Default SVC before Imbalance and Tuning\n",
    "\n",
    "initialEstimator=Pipeline([\n",
    "        ('preprocess',transformer),\n",
    "        ('model',svc)])\n",
    "\n",
    "initialEstimator.fit(xTrain, yTrain)\n",
    "testPredInitial = initialEstimator.predict(xTest)"
   ]
  },
  {
   "cell_type": "code",
   "execution_count": 52,
   "metadata": {},
   "outputs": [
    {
     "data": {
      "text/plain": [
       "array([[533,  13],\n",
       "       [ 61,  46]], dtype=int64)"
      ]
     },
     "metadata": {},
     "output_type": "display_data"
    },
    {
     "data": {
      "image/png": "[encoded data removed]",
      "text/plain": [
       "<Figure size 600x500 with 2 Axes>"
      ]
     },
     "metadata": {},
     "output_type": "display_data"
    }
   ],
   "source": [
    "# Default Model Benchmarking\n",
    "\n",
    "cmDefault = confusion_matrix(yTest, testPredInitial)\n",
    "display(cmDefault)\n",
    "\n",
    "# Convert to heatmap\n",
    "plt.figure(figsize=(6, 5))\n",
    "sns.heatmap(cmDefault, annot=True, fmt='d', cmap='flare')\n",
    "plt.xlabel('Predicted')\n",
    "plt.ylabel('True')\n",
    "plt.title('Confusion Matrix')\n",
    "plt.show()"
   ]
  },
  {
   "cell_type": "code",
   "execution_count": 53,
   "metadata": {},
   "outputs": [
    {
     "name": "stdout",
     "output_type": "stream",
     "text": [
      "False Negative Rate : 57.01%\n"
     ]
    }
   ],
   "source": [
    "# Calculating default FN rate\n",
    "\n",
    "defaultFNRate = 61/(46+61)\n",
    "print(f'False Negative Rate : {round(defaultFNRate*100,2)}%')"
   ]
  },
  {
   "cell_type": "markdown",
   "metadata": {},
   "source": [
    "From the confusion matrix of initial test above, the False negative rate is still low at **57.01%**"
   ]
  },
  {
   "cell_type": "code",
   "execution_count": 54,
   "metadata": {},
   "outputs": [
    {
     "data": {
      "text/plain": [
       "array([[ 82, 464],\n",
       "       [  2, 105]], dtype=int64)"
      ]
     },
     "metadata": {},
     "output_type": "display_data"
    },
    {
     "data": {
      "image/png": "[encoded data removed]",
      "text/plain": [
       "<Figure size 600x500 with 2 Axes>"
      ]
     },
     "metadata": {},
     "output_type": "display_data"
    }
   ],
   "source": [
    "# After Tuning SVC\n",
    "\n",
    "cmTunned = confusion_matrix(yTest, testPredTunedSVC)\n",
    "display(cmTunned)\n",
    "\n",
    "# Convert to heatmap\n",
    "plt.figure(figsize=(6, 5))\n",
    "sns.heatmap(cmTunned, annot=True, fmt='d', cmap='flare')\n",
    "plt.xlabel('Predicted')\n",
    "plt.ylabel('True')\n",
    "plt.title('Confusion Matrix')\n",
    "plt.show()"
   ]
  },
  {
   "cell_type": "code",
   "execution_count": 55,
   "metadata": {},
   "outputs": [
    {
     "name": "stdout",
     "output_type": "stream",
     "text": [
      "False Negative Rate : 1.87%\n"
     ]
    }
   ],
   "source": [
    "# Calculating tunned FN rate\n",
    "\n",
    "tunnedFNRate = 2/(105+2)\n",
    "print(f'False Negative Rate : {round(tunnedFNRate*100,2)}%')"
   ]
  },
  {
   "cell_type": "code",
   "execution_count": 56,
   "metadata": {},
   "outputs": [
    {
     "data": {
      "text/plain": [
       "55.140186915887845"
      ]
     },
     "execution_count": 56,
     "metadata": {},
     "output_type": "execute_result"
    }
   ],
   "source": [
    "# False Negative rate reduction\n",
    "\n",
    "(defaultFNRate-tunnedFNRate)*100"
   ]
  },
  {
   "cell_type": "markdown",
   "metadata": {},
   "source": [
    "From the confusion matrix of tunned test above, the False negative rate is significantly improved at **1.87%**, means we managed to reduce False Negative rate by **55.14%**"
   ]
  },
  {
   "cell_type": "markdown",
   "metadata": {},
   "source": [
    "# **Feature Importances**"
   ]
  },
  {
   "cell_type": "code",
   "execution_count": 57,
   "metadata": {},
   "outputs": [
    {
     "data": {
      "text/html": [
       "<div>\n",
       "<style scoped>\n",
       "    .dataframe tbody tr th:only-of-type {\n",
       "        vertical-align: middle;\n",
       "    }\n",
       "\n",
       "    .dataframe tbody tr th {\n",
       "        vertical-align: top;\n",
       "    }\n",
       "\n",
       "    .dataframe thead th {\n",
       "        text-align: right;\n",
       "    }\n",
       "</style>\n",
       "<table border=\"1\" class=\"dataframe\">\n",
       "  <thead>\n",
       "    <tr style=\"text-align: right;\">\n",
       "      <th></th>\n",
       "      <th>Feature</th>\n",
       "      <th>Importance</th>\n",
       "    </tr>\n",
       "  </thead>\n",
       "  <tbody>\n",
       "    <tr>\n",
       "      <th>9</th>\n",
       "      <td>CashbackAmount</td>\n",
       "      <td>0.058129</td>\n",
       "    </tr>\n",
       "    <tr>\n",
       "      <th>0</th>\n",
       "      <td>Tenure</td>\n",
       "      <td>0.039571</td>\n",
       "    </tr>\n",
       "    <tr>\n",
       "      <th>3</th>\n",
       "      <td>PreferedOrderCat</td>\n",
       "      <td>0.019325</td>\n",
       "    </tr>\n",
       "    <tr>\n",
       "      <th>2</th>\n",
       "      <td>NumberOfDeviceRegistered</td>\n",
       "      <td>0.008742</td>\n",
       "    </tr>\n",
       "    <tr>\n",
       "      <th>6</th>\n",
       "      <td>NumberOfAddress</td>\n",
       "      <td>0.007515</td>\n",
       "    </tr>\n",
       "    <tr>\n",
       "      <th>8</th>\n",
       "      <td>DaySinceLastOrder</td>\n",
       "      <td>0.006250</td>\n",
       "    </tr>\n",
       "    <tr>\n",
       "      <th>5</th>\n",
       "      <td>MaritalStatus</td>\n",
       "      <td>0.005215</td>\n",
       "    </tr>\n",
       "    <tr>\n",
       "      <th>7</th>\n",
       "      <td>Complain</td>\n",
       "      <td>0.001687</td>\n",
       "    </tr>\n",
       "    <tr>\n",
       "      <th>1</th>\n",
       "      <td>WarehouseToHome</td>\n",
       "      <td>0.000997</td>\n",
       "    </tr>\n",
       "    <tr>\n",
       "      <th>4</th>\n",
       "      <td>SatisfactionScore</td>\n",
       "      <td>0.000268</td>\n",
       "    </tr>\n",
       "  </tbody>\n",
       "</table>\n",
       "</div>"
      ],
      "text/plain": [
       "                    Feature  Importance\n",
       "9            CashbackAmount    0.058129\n",
       "0                    Tenure    0.039571\n",
       "3          PreferedOrderCat    0.019325\n",
       "2  NumberOfDeviceRegistered    0.008742\n",
       "6           NumberOfAddress    0.007515\n",
       "8         DaySinceLastOrder    0.006250\n",
       "5             MaritalStatus    0.005215\n",
       "7                  Complain    0.001687\n",
       "1           WarehouseToHome    0.000997\n",
       "4         SatisfactionScore    0.000268"
      ]
     },
     "metadata": {},
     "output_type": "display_data"
    },
    {
     "data": {
      "image/png": "[encoded data removed]",
      "text/plain": [
       "<Figure size 1400x600 with 1 Axes>"
      ]
     },
     "metadata": {},
     "output_type": "display_data"
    }
   ],
   "source": [
    "# Calculate permutation importances\n",
    "result = permutation_importance(estimatorTSVC, xTrain, yTrain, n_repeats=10, random_state=20)\n",
    "\n",
    "# Get feature importances\n",
    "importances = result.importances_mean\n",
    "\n",
    "# Feature Importance DF\n",
    "importanceDf = pd.DataFrame({'Feature': xTrain.columns, 'Importance': importances})\n",
    "\n",
    "# Sort descending\n",
    "importanceDf = importanceDf.sort_values(by='Importance', ascending=False)\n",
    "display(importanceDf)\n",
    "\n",
    "# Plot feature importances\n",
    "plt.figure(figsize=(14, 6))\n",
    "sns.barplot(x='Importance', y='Feature', data=importanceDf,palette='flare')\n",
    "plt.title('Feature Importances')\n",
    "plt.xlabel('Importance')\n",
    "plt.ylabel('Feature')\n",
    "plt.show()"
   ]
  },
  {
   "cell_type": "markdown",
   "metadata": {},
   "source": [
    "From the barplot above we can see what features are contributing the most to the target usinge machine learning model, it helps us to define what sector we need to recommend for improvement.<br>\n",
    "The top three of feature importances are **CashbackAmount, Tenure and PreferedOrderCat**, which are great result for us to consider these feature in order to gather deeper analysis information for improvement recommendation."
   ]
  },
  {
   "cell_type": "markdown",
   "metadata": {},
   "source": [
    "# **Conclusion & Recommendation**"
   ]
  },
  {
   "cell_type": "markdown",
   "metadata": {},
   "source": [
    "### *`Conclusion`*"
   ]
  },
  {
   "cell_type": "markdown",
   "metadata": {},
   "source": [
    "- Use all columns as feature\n",
    "- Preprocessing data using endocer and scaler\n",
    "- Initial model testing resulting LightGBM and XGBoost as top two model\n",
    "- Imbalance treatment resulting better score with LogReg and SVC as the best two model\n",
    "- Tunnig result: SVC as best model and parameter to get best recall score of **98.11%**\n",
    "- Confussion Matrix proves that we managed to reduce False Negative rate by **55.14%**\n",
    "- Top 3 features contributing are: **CashbackAmount, Tenure and PreferedOrderCat**"
   ]
  },
  {
   "cell_type": "markdown",
   "metadata": {},
   "source": [
    "### *`Recommendation`*"
   ]
  },
  {
   "cell_type": "markdown",
   "metadata": {},
   "source": [
    "- To improve recall score better we need to consider adding feature that are more representing customer behaviors\n",
    "- We can consider to use this model to do a future prediction of potential Churn customer, to be able set most efficient strategies to minimize the Churn rate\n",
    "- Prioritizing on **CashbackAmount, Tenure and PreferedOrderCat** features to gather best customer retention plan in the future"
   ]
  },
  {
   "cell_type": "markdown",
   "metadata": {},
   "source": []
  }
 ],
 "metadata": {
  "kernelspec": {
   "display_name": "Python 3",
   "language": "python",
   "name": "python3"
  },
  "language_info": {
   "codemirror_mode": {
    "name": "ipython",
    "version": 3
   },
   "file_extension": ".py",
   "mimetype": "text/x-python",
   "name": "python",
   "nbconvert_exporter": "python",
   "pygments_lexer": "ipython3",
   "version": "3.11.2"
  },
  "orig_nbformat": 4
 },
 "nbformat": 4,
 "nbformat_minor": 2
}
